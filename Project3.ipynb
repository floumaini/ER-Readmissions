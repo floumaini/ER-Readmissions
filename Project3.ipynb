{
 "cells": [
  {
   "cell_type": "markdown",
   "metadata": {
    "toc": true
   },
   "source": [
    "<h1>Table of Contents<span class=\"tocSkip\"></span></h1>\n",
    "<div class=\"toc\"><ul class=\"toc-item\"><li><ul class=\"toc-item\"><li><span><a href=\"#Translating-the-features\" data-toc-modified-id=\"Translating-the-features-0.1\"><span class=\"toc-item-num\">0.1&nbsp;&nbsp;</span>Translating the features</a></span></li></ul></li><li><span><a href=\"#Features\" data-toc-modified-id=\"Features-1\"><span class=\"toc-item-num\">1&nbsp;&nbsp;</span>Features</a></span></li><li><span><a href=\"#EDA\" data-toc-modified-id=\"EDA-2\"><span class=\"toc-item-num\">2&nbsp;&nbsp;</span>EDA</a></span><ul class=\"toc-item\"><li><span><a href=\"#knn\" data-toc-modified-id=\"knn-2.1\"><span class=\"toc-item-num\">2.1&nbsp;&nbsp;</span>knn</a></span></li><li><span><a href=\"#RFE\" data-toc-modified-id=\"RFE-2.2\"><span class=\"toc-item-num\">2.2&nbsp;&nbsp;</span>RFE</a></span></li><li><span><a href=\"#Confusion-Matrix\" data-toc-modified-id=\"Confusion-Matrix-2.3\"><span class=\"toc-item-num\">2.3&nbsp;&nbsp;</span>Confusion Matrix</a></span></li></ul></li></ul></div>"
   ]
  },
  {
   "cell_type": "code",
   "execution_count": 3,
   "metadata": {
    "ExecuteTime": {
     "end_time": "2019-07-26T21:38:26.570380Z",
     "start_time": "2019-07-26T21:38:24.701351Z"
    }
   },
   "outputs": [],
   "source": [
    "import pandas as pd\n",
    "train= pd.read_csv(\"/Users/fatimaloumaini/Downloads/train.csv\")\n",
    "\n",
    "\n",
    "\n"
   ]
  },
  {
   "cell_type": "code",
   "execution_count": 49,
   "metadata": {
    "ExecuteTime": {
     "end_time": "2019-07-26T21:51:15.267297Z",
     "start_time": "2019-07-26T21:51:15.215915Z"
    }
   },
   "outputs": [
    {
     "name": "stdout",
     "output_type": "stream",
     "text": [
      "<class 'pandas.core.frame.DataFrame'>\n",
      "RangeIndex: 25000 entries, 0 to 24999\n",
      "Data columns (total 65 columns):\n",
      "time_in_hospital                            25000 non-null int64\n",
      "num_lab_procedures                          25000 non-null int64\n",
      "num_procedures                              25000 non-null int64\n",
      "num_medications                             25000 non-null int64\n",
      "number_outpatient                           25000 non-null int64\n",
      "number_emergency                            25000 non-null int64\n",
      "number_inpatient                            25000 non-null int64\n",
      "number_diagnoses                            25000 non-null int64\n",
      "race_Caucasian                              25000 non-null bool\n",
      "race_AfricanAmerican                        25000 non-null bool\n",
      "gender_Female                               25000 non-null bool\n",
      "age_[70-80)                                 25000 non-null bool\n",
      "age_[60-70)                                 25000 non-null bool\n",
      "age_[50-60)                                 25000 non-null bool\n",
      "age_[80-90)                                 25000 non-null bool\n",
      "age_[40-50)                                 25000 non-null bool\n",
      "payer_code_?                                25000 non-null bool\n",
      "payer_code_MC                               25000 non-null bool\n",
      "payer_code_HM                               25000 non-null bool\n",
      "payer_code_SP                               25000 non-null bool\n",
      "payer_code_BC                               25000 non-null bool\n",
      "medical_specialty_?                         25000 non-null bool\n",
      "medical_specialty_InternalMedicine          25000 non-null bool\n",
      "medical_specialty_Emergency/Trauma          25000 non-null bool\n",
      "medical_specialty_Family/GeneralPractice    25000 non-null bool\n",
      "medical_specialty_Cardiology                25000 non-null bool\n",
      "diag_1_428                                  25000 non-null bool\n",
      "diag_1_414                                  25000 non-null bool\n",
      "diag_1_786                                  25000 non-null bool\n",
      "diag_2_276                                  25000 non-null bool\n",
      "diag_2_428                                  25000 non-null bool\n",
      "diag_2_250                                  25000 non-null bool\n",
      "diag_2_427                                  25000 non-null bool\n",
      "diag_3_250                                  25000 non-null bool\n",
      "diag_3_401                                  25000 non-null bool\n",
      "diag_3_276                                  25000 non-null bool\n",
      "diag_3_428                                  25000 non-null bool\n",
      "max_glu_serum_None                          25000 non-null bool\n",
      "A1Cresult_None                              25000 non-null bool\n",
      "metformin_No                                25000 non-null bool\n",
      "repaglinide_No                              25000 non-null bool\n",
      "nateglinide_No                              25000 non-null bool\n",
      "chlorpropamide_No                           25000 non-null bool\n",
      "glimepiride_No                              25000 non-null bool\n",
      "acetohexamide_No                            25000 non-null bool\n",
      "glipizide_No                                25000 non-null bool\n",
      "glyburide_No                                25000 non-null bool\n",
      "tolbutamide_No                              25000 non-null bool\n",
      "pioglitazone_No                             25000 non-null bool\n",
      "rosiglitazone_No                            25000 non-null bool\n",
      "acarbose_No                                 25000 non-null bool\n",
      "miglitol_No                                 25000 non-null bool\n",
      "troglitazone_No                             25000 non-null bool\n",
      "tolazamide_No                               25000 non-null bool\n",
      "examide_No                                  25000 non-null bool\n",
      "citoglipton_No                              25000 non-null bool\n",
      "insulin_No                                  25000 non-null bool\n",
      "glyburide-metformin_No                      25000 non-null bool\n",
      "glipizide-metformin_No                      25000 non-null bool\n",
      "glimepiride-pioglitazone_No                 25000 non-null bool\n",
      "metformin-rosiglitazone_No                  25000 non-null bool\n",
      "metformin-pioglitazone_No                   25000 non-null bool\n",
      "change_No                                   25000 non-null bool\n",
      "diabetesMed_Yes                             25000 non-null bool\n",
      "readmitted                                  25000 non-null int64\n",
      "dtypes: bool(56), int64(9)\n",
      "memory usage: 3.1 MB\n"
     ]
    }
   ],
   "source": [
    "train.info()"
   ]
  },
  {
   "cell_type": "code",
   "execution_count": 4,
   "metadata": {
    "ExecuteTime": {
     "end_time": "2019-07-26T21:38:26.619101Z",
     "start_time": "2019-07-26T21:38:26.573049Z"
    }
   },
   "outputs": [
    {
     "data": {
      "text/html": [
       "<div>\n",
       "<style scoped>\n",
       "    .dataframe tbody tr th:only-of-type {\n",
       "        vertical-align: middle;\n",
       "    }\n",
       "\n",
       "    .dataframe tbody tr th {\n",
       "        vertical-align: top;\n",
       "    }\n",
       "\n",
       "    .dataframe thead th {\n",
       "        text-align: right;\n",
       "    }\n",
       "</style>\n",
       "<table border=\"1\" class=\"dataframe\">\n",
       "  <thead>\n",
       "    <tr style=\"text-align: right;\">\n",
       "      <th></th>\n",
       "      <th>time_in_hospital</th>\n",
       "      <th>num_lab_procedures</th>\n",
       "      <th>num_procedures</th>\n",
       "      <th>num_medications</th>\n",
       "      <th>number_outpatient</th>\n",
       "      <th>number_emergency</th>\n",
       "      <th>number_inpatient</th>\n",
       "      <th>number_diagnoses</th>\n",
       "      <th>race_Caucasian</th>\n",
       "      <th>race_AfricanAmerican</th>\n",
       "      <th>...</th>\n",
       "      <th>citoglipton_No</th>\n",
       "      <th>insulin_No</th>\n",
       "      <th>glyburide-metformin_No</th>\n",
       "      <th>glipizide-metformin_No</th>\n",
       "      <th>glimepiride-pioglitazone_No</th>\n",
       "      <th>metformin-rosiglitazone_No</th>\n",
       "      <th>metformin-pioglitazone_No</th>\n",
       "      <th>change_No</th>\n",
       "      <th>diabetesMed_Yes</th>\n",
       "      <th>readmitted</th>\n",
       "    </tr>\n",
       "  </thead>\n",
       "  <tbody>\n",
       "    <tr>\n",
       "      <th>0</th>\n",
       "      <td>14</td>\n",
       "      <td>41</td>\n",
       "      <td>0</td>\n",
       "      <td>11</td>\n",
       "      <td>0</td>\n",
       "      <td>0</td>\n",
       "      <td>0</td>\n",
       "      <td>6</td>\n",
       "      <td>True</td>\n",
       "      <td>False</td>\n",
       "      <td>...</td>\n",
       "      <td>True</td>\n",
       "      <td>True</td>\n",
       "      <td>True</td>\n",
       "      <td>True</td>\n",
       "      <td>True</td>\n",
       "      <td>True</td>\n",
       "      <td>True</td>\n",
       "      <td>True</td>\n",
       "      <td>True</td>\n",
       "      <td>0</td>\n",
       "    </tr>\n",
       "    <tr>\n",
       "      <th>1</th>\n",
       "      <td>2</td>\n",
       "      <td>30</td>\n",
       "      <td>0</td>\n",
       "      <td>12</td>\n",
       "      <td>0</td>\n",
       "      <td>0</td>\n",
       "      <td>1</td>\n",
       "      <td>9</td>\n",
       "      <td>True</td>\n",
       "      <td>False</td>\n",
       "      <td>...</td>\n",
       "      <td>True</td>\n",
       "      <td>False</td>\n",
       "      <td>True</td>\n",
       "      <td>True</td>\n",
       "      <td>True</td>\n",
       "      <td>True</td>\n",
       "      <td>True</td>\n",
       "      <td>False</td>\n",
       "      <td>True</td>\n",
       "      <td>1</td>\n",
       "    </tr>\n",
       "    <tr>\n",
       "      <th>2</th>\n",
       "      <td>5</td>\n",
       "      <td>66</td>\n",
       "      <td>0</td>\n",
       "      <td>22</td>\n",
       "      <td>1</td>\n",
       "      <td>0</td>\n",
       "      <td>2</td>\n",
       "      <td>9</td>\n",
       "      <td>True</td>\n",
       "      <td>False</td>\n",
       "      <td>...</td>\n",
       "      <td>True</td>\n",
       "      <td>True</td>\n",
       "      <td>True</td>\n",
       "      <td>True</td>\n",
       "      <td>True</td>\n",
       "      <td>True</td>\n",
       "      <td>True</td>\n",
       "      <td>True</td>\n",
       "      <td>True</td>\n",
       "      <td>1</td>\n",
       "    </tr>\n",
       "    <tr>\n",
       "      <th>3</th>\n",
       "      <td>3</td>\n",
       "      <td>63</td>\n",
       "      <td>0</td>\n",
       "      <td>8</td>\n",
       "      <td>0</td>\n",
       "      <td>0</td>\n",
       "      <td>0</td>\n",
       "      <td>8</td>\n",
       "      <td>True</td>\n",
       "      <td>False</td>\n",
       "      <td>...</td>\n",
       "      <td>True</td>\n",
       "      <td>True</td>\n",
       "      <td>True</td>\n",
       "      <td>True</td>\n",
       "      <td>True</td>\n",
       "      <td>True</td>\n",
       "      <td>True</td>\n",
       "      <td>True</td>\n",
       "      <td>True</td>\n",
       "      <td>1</td>\n",
       "    </tr>\n",
       "    <tr>\n",
       "      <th>4</th>\n",
       "      <td>5</td>\n",
       "      <td>40</td>\n",
       "      <td>0</td>\n",
       "      <td>6</td>\n",
       "      <td>0</td>\n",
       "      <td>0</td>\n",
       "      <td>1</td>\n",
       "      <td>9</td>\n",
       "      <td>True</td>\n",
       "      <td>False</td>\n",
       "      <td>...</td>\n",
       "      <td>True</td>\n",
       "      <td>True</td>\n",
       "      <td>True</td>\n",
       "      <td>True</td>\n",
       "      <td>True</td>\n",
       "      <td>True</td>\n",
       "      <td>True</td>\n",
       "      <td>True</td>\n",
       "      <td>False</td>\n",
       "      <td>0</td>\n",
       "    </tr>\n",
       "  </tbody>\n",
       "</table>\n",
       "<p>5 rows × 65 columns</p>\n",
       "</div>"
      ],
      "text/plain": [
       "   time_in_hospital  num_lab_procedures  num_procedures  num_medications  \\\n",
       "0                14                  41               0               11   \n",
       "1                 2                  30               0               12   \n",
       "2                 5                  66               0               22   \n",
       "3                 3                  63               0                8   \n",
       "4                 5                  40               0                6   \n",
       "\n",
       "   number_outpatient  number_emergency  number_inpatient  number_diagnoses  \\\n",
       "0                  0                 0                 0                 6   \n",
       "1                  0                 0                 1                 9   \n",
       "2                  1                 0                 2                 9   \n",
       "3                  0                 0                 0                 8   \n",
       "4                  0                 0                 1                 9   \n",
       "\n",
       "   race_Caucasian  race_AfricanAmerican  ...  citoglipton_No  insulin_No  \\\n",
       "0            True                 False  ...            True        True   \n",
       "1            True                 False  ...            True       False   \n",
       "2            True                 False  ...            True        True   \n",
       "3            True                 False  ...            True        True   \n",
       "4            True                 False  ...            True        True   \n",
       "\n",
       "   glyburide-metformin_No  glipizide-metformin_No  \\\n",
       "0                    True                    True   \n",
       "1                    True                    True   \n",
       "2                    True                    True   \n",
       "3                    True                    True   \n",
       "4                    True                    True   \n",
       "\n",
       "   glimepiride-pioglitazone_No  metformin-rosiglitazone_No  \\\n",
       "0                         True                        True   \n",
       "1                         True                        True   \n",
       "2                         True                        True   \n",
       "3                         True                        True   \n",
       "4                         True                        True   \n",
       "\n",
       "   metformin-pioglitazone_No  change_No  diabetesMed_Yes  readmitted  \n",
       "0                       True       True             True           0  \n",
       "1                       True      False             True           1  \n",
       "2                       True       True             True           1  \n",
       "3                       True       True             True           1  \n",
       "4                       True       True            False           0  \n",
       "\n",
       "[5 rows x 65 columns]"
      ]
     },
     "execution_count": 4,
     "metadata": {},
     "output_type": "execute_result"
    }
   ],
   "source": [
    "train.head()"
   ]
  },
  {
   "cell_type": "code",
   "execution_count": 5,
   "metadata": {
    "ExecuteTime": {
     "end_time": "2019-07-26T21:38:26.632699Z",
     "start_time": "2019-07-26T21:38:26.623550Z"
    }
   },
   "outputs": [
    {
     "data": {
      "text/plain": [
       "0    13590\n",
       "1    11410\n",
       "Name: readmitted, dtype: int64"
      ]
     },
     "execution_count": 5,
     "metadata": {},
     "output_type": "execute_result"
    }
   ],
   "source": [
    "train[\"readmitted\"].value_counts()"
   ]
  },
  {
   "cell_type": "code",
   "execution_count": 6,
   "metadata": {
    "ExecuteTime": {
     "end_time": "2019-07-26T21:38:27.429692Z",
     "start_time": "2019-07-26T21:38:27.420922Z"
    },
    "scrolled": true
   },
   "outputs": [
    {
     "data": {
      "text/plain": [
       "Index(['time_in_hospital', 'num_lab_procedures', 'num_procedures',\n",
       "       'num_medications', 'number_outpatient', 'number_emergency',\n",
       "       'number_inpatient', 'number_diagnoses', 'race_Caucasian',\n",
       "       'race_AfricanAmerican', 'gender_Female', 'age_[70-80)', 'age_[60-70)',\n",
       "       'age_[50-60)', 'age_[80-90)', 'age_[40-50)', 'payer_code_?',\n",
       "       'payer_code_MC', 'payer_code_HM', 'payer_code_SP', 'payer_code_BC',\n",
       "       'medical_specialty_?', 'medical_specialty_InternalMedicine',\n",
       "       'medical_specialty_Emergency/Trauma',\n",
       "       'medical_specialty_Family/GeneralPractice',\n",
       "       'medical_specialty_Cardiology', 'diag_1_428', 'diag_1_414',\n",
       "       'diag_1_786', 'diag_2_276', 'diag_2_428', 'diag_2_250', 'diag_2_427',\n",
       "       'diag_3_250', 'diag_3_401', 'diag_3_276', 'diag_3_428',\n",
       "       'max_glu_serum_None', 'A1Cresult_None', 'metformin_No',\n",
       "       'repaglinide_No', 'nateglinide_No', 'chlorpropamide_No',\n",
       "       'glimepiride_No', 'acetohexamide_No', 'glipizide_No', 'glyburide_No',\n",
       "       'tolbutamide_No', 'pioglitazone_No', 'rosiglitazone_No', 'acarbose_No',\n",
       "       'miglitol_No', 'troglitazone_No', 'tolazamide_No', 'examide_No',\n",
       "       'citoglipton_No', 'insulin_No', 'glyburide-metformin_No',\n",
       "       'glipizide-metformin_No', 'glimepiride-pioglitazone_No',\n",
       "       'metformin-rosiglitazone_No', 'metformin-pioglitazone_No', 'change_No',\n",
       "       'diabetesMed_Yes', 'readmitted'],\n",
       "      dtype='object')"
      ]
     },
     "execution_count": 6,
     "metadata": {},
     "output_type": "execute_result"
    }
   ],
   "source": [
    "train.columns"
   ]
  },
  {
   "cell_type": "code",
   "execution_count": 7,
   "metadata": {
    "ExecuteTime": {
     "end_time": "2019-07-26T21:38:27.777600Z",
     "start_time": "2019-07-26T21:38:27.706766Z"
    }
   },
   "outputs": [
    {
     "data": {
      "text/html": [
       "<div>\n",
       "<style scoped>\n",
       "    .dataframe tbody tr th:only-of-type {\n",
       "        vertical-align: middle;\n",
       "    }\n",
       "\n",
       "    .dataframe tbody tr th {\n",
       "        vertical-align: top;\n",
       "    }\n",
       "\n",
       "    .dataframe thead th {\n",
       "        text-align: right;\n",
       "    }\n",
       "</style>\n",
       "<table border=\"1\" class=\"dataframe\">\n",
       "  <thead>\n",
       "    <tr style=\"text-align: right;\">\n",
       "      <th></th>\n",
       "      <th>time_in_hospital</th>\n",
       "      <th>num_lab_procedures</th>\n",
       "      <th>num_procedures</th>\n",
       "      <th>num_medications</th>\n",
       "      <th>number_outpatient</th>\n",
       "      <th>number_emergency</th>\n",
       "      <th>number_inpatient</th>\n",
       "      <th>number_diagnoses</th>\n",
       "      <th>readmitted</th>\n",
       "    </tr>\n",
       "  </thead>\n",
       "  <tbody>\n",
       "    <tr>\n",
       "      <th>count</th>\n",
       "      <td>25000.000000</td>\n",
       "      <td>25000.00000</td>\n",
       "      <td>25000.000000</td>\n",
       "      <td>25000.000000</td>\n",
       "      <td>25000.000000</td>\n",
       "      <td>25000.000000</td>\n",
       "      <td>25000.00000</td>\n",
       "      <td>25000.000000</td>\n",
       "      <td>25000.000000</td>\n",
       "    </tr>\n",
       "    <tr>\n",
       "      <th>mean</th>\n",
       "      <td>4.395640</td>\n",
       "      <td>42.96012</td>\n",
       "      <td>1.341080</td>\n",
       "      <td>15.988440</td>\n",
       "      <td>0.365920</td>\n",
       "      <td>0.203280</td>\n",
       "      <td>0.64300</td>\n",
       "      <td>7.420160</td>\n",
       "      <td>0.456400</td>\n",
       "    </tr>\n",
       "    <tr>\n",
       "      <th>std</th>\n",
       "      <td>2.991165</td>\n",
       "      <td>19.76881</td>\n",
       "      <td>1.705398</td>\n",
       "      <td>8.107743</td>\n",
       "      <td>1.224419</td>\n",
       "      <td>0.982973</td>\n",
       "      <td>1.26286</td>\n",
       "      <td>1.940932</td>\n",
       "      <td>0.498105</td>\n",
       "    </tr>\n",
       "    <tr>\n",
       "      <th>min</th>\n",
       "      <td>1.000000</td>\n",
       "      <td>1.00000</td>\n",
       "      <td>0.000000</td>\n",
       "      <td>1.000000</td>\n",
       "      <td>0.000000</td>\n",
       "      <td>0.000000</td>\n",
       "      <td>0.00000</td>\n",
       "      <td>1.000000</td>\n",
       "      <td>0.000000</td>\n",
       "    </tr>\n",
       "    <tr>\n",
       "      <th>25%</th>\n",
       "      <td>2.000000</td>\n",
       "      <td>31.00000</td>\n",
       "      <td>0.000000</td>\n",
       "      <td>10.000000</td>\n",
       "      <td>0.000000</td>\n",
       "      <td>0.000000</td>\n",
       "      <td>0.00000</td>\n",
       "      <td>6.000000</td>\n",
       "      <td>0.000000</td>\n",
       "    </tr>\n",
       "    <tr>\n",
       "      <th>50%</th>\n",
       "      <td>4.000000</td>\n",
       "      <td>44.00000</td>\n",
       "      <td>1.000000</td>\n",
       "      <td>15.000000</td>\n",
       "      <td>0.000000</td>\n",
       "      <td>0.000000</td>\n",
       "      <td>0.00000</td>\n",
       "      <td>8.000000</td>\n",
       "      <td>0.000000</td>\n",
       "    </tr>\n",
       "    <tr>\n",
       "      <th>75%</th>\n",
       "      <td>6.000000</td>\n",
       "      <td>57.00000</td>\n",
       "      <td>2.000000</td>\n",
       "      <td>20.000000</td>\n",
       "      <td>0.000000</td>\n",
       "      <td>0.000000</td>\n",
       "      <td>1.00000</td>\n",
       "      <td>9.000000</td>\n",
       "      <td>1.000000</td>\n",
       "    </tr>\n",
       "    <tr>\n",
       "      <th>max</th>\n",
       "      <td>14.000000</td>\n",
       "      <td>126.00000</td>\n",
       "      <td>6.000000</td>\n",
       "      <td>81.000000</td>\n",
       "      <td>36.000000</td>\n",
       "      <td>64.000000</td>\n",
       "      <td>21.00000</td>\n",
       "      <td>16.000000</td>\n",
       "      <td>1.000000</td>\n",
       "    </tr>\n",
       "  </tbody>\n",
       "</table>\n",
       "</div>"
      ],
      "text/plain": [
       "       time_in_hospital  num_lab_procedures  num_procedures  num_medications  \\\n",
       "count      25000.000000         25000.00000    25000.000000     25000.000000   \n",
       "mean           4.395640            42.96012        1.341080        15.988440   \n",
       "std            2.991165            19.76881        1.705398         8.107743   \n",
       "min            1.000000             1.00000        0.000000         1.000000   \n",
       "25%            2.000000            31.00000        0.000000        10.000000   \n",
       "50%            4.000000            44.00000        1.000000        15.000000   \n",
       "75%            6.000000            57.00000        2.000000        20.000000   \n",
       "max           14.000000           126.00000        6.000000        81.000000   \n",
       "\n",
       "       number_outpatient  number_emergency  number_inpatient  \\\n",
       "count       25000.000000      25000.000000       25000.00000   \n",
       "mean            0.365920          0.203280           0.64300   \n",
       "std             1.224419          0.982973           1.26286   \n",
       "min             0.000000          0.000000           0.00000   \n",
       "25%             0.000000          0.000000           0.00000   \n",
       "50%             0.000000          0.000000           0.00000   \n",
       "75%             0.000000          0.000000           1.00000   \n",
       "max            36.000000         64.000000          21.00000   \n",
       "\n",
       "       number_diagnoses    readmitted  \n",
       "count      25000.000000  25000.000000  \n",
       "mean           7.420160      0.456400  \n",
       "std            1.940932      0.498105  \n",
       "min            1.000000      0.000000  \n",
       "25%            6.000000      0.000000  \n",
       "50%            8.000000      0.000000  \n",
       "75%            9.000000      1.000000  \n",
       "max           16.000000      1.000000  "
      ]
     },
     "execution_count": 7,
     "metadata": {},
     "output_type": "execute_result"
    }
   ],
   "source": [
    "train.describe()\n"
   ]
  },
  {
   "cell_type": "markdown",
   "metadata": {},
   "source": [
    "## Translating the features"
   ]
  },
  {
   "cell_type": "markdown",
   "metadata": {},
   "source": [
    "- payer_code_MC: Medicaid\n",
    "- payer_code_HM: Health Maintenance Organization (HMO) Medicare Risk- they are HMO that contract with Medicare program to provide Medicare packages' to enrolled beneficiaries \n",
    "- payer_code_SP: Seconday payer\n",
    "- payer_code_BC: Reserved for national assignment\n",
    "- diag_1_428: Actinomycotic meningitis\n",
    "- diag_1_414: Sepsis due to anaerobes\n",
    "- diag_1_786: Chest Pain\n",
    "- diag_2_276:No idea\n",
    "- diag_2_428: Actinomycotic encephalitis\n",
    "- diag_2_250: Spirillosis\n",
    "- diag_2_427:Actinomycotic sepsis\n",
    "- diag_3_250: Spirillosis\n",
    "- diag_3_401: Sepsis due to strepococcus, Group B\n",
    "- diag_3_276:No idea\n",
    "- diag_3_428: Other forms of Actinomycotic\n",
    "\n",
    "\n",
    "\n",
    "I should drop the ones with diag or not we will see\n"
   ]
  },
  {
   "cell_type": "markdown",
   "metadata": {},
   "source": [
    "# Features"
   ]
  },
  {
   "cell_type": "code",
   "execution_count": 8,
   "metadata": {
    "ExecuteTime": {
     "end_time": "2019-07-26T21:38:28.533015Z",
     "start_time": "2019-07-26T21:38:28.527166Z"
    }
   },
   "outputs": [
    {
     "data": {
      "text/plain": [
       "(25000, 65)"
      ]
     },
     "execution_count": 8,
     "metadata": {},
     "output_type": "execute_result"
    }
   ],
   "source": [
    "train.shape"
   ]
  },
  {
   "cell_type": "markdown",
   "metadata": {},
   "source": [
    "1- time_in_hospital:\n",
    "\n",
    "2- num_lab_procedures:\n",
    "\n",
    "3- num_procedures:\n",
    "\n",
    "4- num_medications:\n",
    "\n",
    "5- number_outpatient:\n",
    "\n",
    "6- number_emergency:\n",
    "\n",
    "7- number_inpatient:\n",
    "\n",
    "8- number_diagnoses:\n",
    "\n",
    "9- race_Caucasian:\n",
    "\n",
    "10- race_AfricanAmerican:\n",
    "\n",
    "11- gender_Female:\n",
    "\n",
    "12- age70-80:\n",
    "\n",
    "13- age60-70:\n",
    "\n",
    "14- age50-60:\n",
    "\n",
    "15- age80-90:\n",
    "\n",
    "16- age40-50:\n",
    "\n",
    "17- payer_code_?:\n",
    "\n",
    "18- payer_code_MC:\n",
    "\n",
    "19- payer_code_HM:\n",
    "\n",
    "20- payer_code_SP:\n",
    "\n",
    "21- payer_code_BC:\n",
    "\n",
    "22- medical_specialty_?:\n",
    "\n",
    "23- medical_specialty_InternalMedicine:\n",
    "\n",
    "24- medical_specialty_Emergency/Trauma:\n",
    "\n",
    "25- medical_specialty_Family/GeneralPractice:\n",
    "\n",
    "26- medical_specialty_Cardiology:\n",
    "\n",
    "27- diag_1_428: Actinomycotic meningitis:\n",
    "\n",
    "28- diag_1_414: Sepsis due to anaerobes:\n",
    "\n",
    "29- diag_1_786: Chest Pain:\n",
    "\n",
    "30- diag_2_276:No idea:\n",
    "\n",
    "31- diag_2_428: Actinomycotic encephalitis:\n",
    "\n",
    "32- diag_2_250: Spirillosis:\n",
    "\n",
    "33- diag_2_427:Actinomycotic sepsis:\n",
    "\n",
    "34- diag_3_250: Spirillosis:\n",
    "\n",
    "35- diag_3_401: Sepsis due to strepococcus, Group B:\n",
    "\n",
    "36- diag_3_276:No idea\n",
    "\n",
    "37- diag_3_428: Other forms of Actinomycotic\n",
    "\n",
    "38- max_glu_serum_None:\n",
    "\n",
    "39- A1Cresult_None:\n",
    "\n",
    "40- metformin_No:\n",
    "\n",
    "41- repaglinide_No:\n",
    "\n",
    "42- nateglinide_No:\n",
    "\n",
    "43- chlorpropamide_No:\n",
    "\n",
    "44- glimepiride_No:\n",
    "\n",
    "45- nateglinide_No:\n",
    "\n",
    "46- chlorpropamide_No:\n",
    "\n",
    "47- glimepiride_No:\n",
    "\n",
    "48- acetohexamide_No:\n",
    "\n",
    "49- glipizide_No:\n",
    "\n",
    "50- glyburide_No:\n",
    "\n",
    "51- tolbutamide_No:\n",
    "\n",
    "52- pioglitazone_No:\n",
    "\n",
    "53- rosiglitazone_No:\n",
    "\n",
    "54- acarbose_No:\n",
    "\n",
    "55- miglitol_No:\n",
    "\n",
    "56- troglitazone_No:\n",
    "\n",
    "57- tolazamide_No:\n",
    "\n",
    "58- examide_No:\n",
    "\n",
    "59- citoglipton_No\n",
    "\n",
    "60- insulin_No\n",
    "\n",
    "61- glyburide-metformin_No\n",
    "\n",
    "62- glipizide-metformin_No\n",
    "\n",
    "63- glimepiride-pioglitazone_No\n",
    "\n",
    "64- metformin-rosiglitazone_No\n",
    "\n",
    "65- metformin-pioglitazone_No\n",
    "\n",
    "66- change_No\n",
    "\n",
    "67- diabetesMed_Yes\n",
    "Target\n",
    "readmitted\n",
    "\n",
    "**Target**- readmitted: Target to predict\n",
    "\n",
    "\n"
   ]
  },
  {
   "cell_type": "code",
   "execution_count": 9,
   "metadata": {
    "ExecuteTime": {
     "end_time": "2019-07-26T21:38:28.848504Z",
     "start_time": "2019-07-26T21:38:28.834208Z"
    }
   },
   "outputs": [
    {
     "data": {
      "text/plain": [
       "False    23377\n",
       "True      1623\n",
       "Name: diag_1_428, dtype: int64"
      ]
     },
     "execution_count": 9,
     "metadata": {},
     "output_type": "execute_result"
    }
   ],
   "source": [
    "train[\"diag_1_428\"].value_counts()"
   ]
  },
  {
   "cell_type": "code",
   "execution_count": 10,
   "metadata": {
    "ExecuteTime": {
     "end_time": "2019-07-26T21:38:28.992246Z",
     "start_time": "2019-07-26T21:38:28.970566Z"
    }
   },
   "outputs": [],
   "source": [
    "test_null = train.isnull().values.any"
   ]
  },
  {
   "cell_type": "code",
   "execution_count": 11,
   "metadata": {
    "ExecuteTime": {
     "end_time": "2019-07-26T21:38:29.172728Z",
     "start_time": "2019-07-26T21:38:29.114939Z"
    }
   },
   "outputs": [
    {
     "data": {
      "text/html": [
       "<div>\n",
       "<style scoped>\n",
       "    .dataframe tbody tr th:only-of-type {\n",
       "        vertical-align: middle;\n",
       "    }\n",
       "\n",
       "    .dataframe tbody tr th {\n",
       "        vertical-align: top;\n",
       "    }\n",
       "\n",
       "    .dataframe thead th {\n",
       "        text-align: right;\n",
       "    }\n",
       "</style>\n",
       "<table border=\"1\" class=\"dataframe\">\n",
       "  <thead>\n",
       "    <tr style=\"text-align: right;\">\n",
       "      <th></th>\n",
       "      <th>time_in_hospital</th>\n",
       "      <th>num_lab_procedures</th>\n",
       "      <th>num_procedures</th>\n",
       "      <th>num_medications</th>\n",
       "      <th>number_outpatient</th>\n",
       "      <th>number_emergency</th>\n",
       "      <th>number_inpatient</th>\n",
       "      <th>number_diagnoses</th>\n",
       "      <th>readmitted</th>\n",
       "    </tr>\n",
       "  </thead>\n",
       "  <tbody>\n",
       "    <tr>\n",
       "      <th>count</th>\n",
       "      <td>25000.000000</td>\n",
       "      <td>25000.00000</td>\n",
       "      <td>25000.000000</td>\n",
       "      <td>25000.000000</td>\n",
       "      <td>25000.000000</td>\n",
       "      <td>25000.000000</td>\n",
       "      <td>25000.00000</td>\n",
       "      <td>25000.000000</td>\n",
       "      <td>25000.000000</td>\n",
       "    </tr>\n",
       "    <tr>\n",
       "      <th>mean</th>\n",
       "      <td>4.395640</td>\n",
       "      <td>42.96012</td>\n",
       "      <td>1.341080</td>\n",
       "      <td>15.988440</td>\n",
       "      <td>0.365920</td>\n",
       "      <td>0.203280</td>\n",
       "      <td>0.64300</td>\n",
       "      <td>7.420160</td>\n",
       "      <td>0.456400</td>\n",
       "    </tr>\n",
       "    <tr>\n",
       "      <th>std</th>\n",
       "      <td>2.991165</td>\n",
       "      <td>19.76881</td>\n",
       "      <td>1.705398</td>\n",
       "      <td>8.107743</td>\n",
       "      <td>1.224419</td>\n",
       "      <td>0.982973</td>\n",
       "      <td>1.26286</td>\n",
       "      <td>1.940932</td>\n",
       "      <td>0.498105</td>\n",
       "    </tr>\n",
       "    <tr>\n",
       "      <th>min</th>\n",
       "      <td>1.000000</td>\n",
       "      <td>1.00000</td>\n",
       "      <td>0.000000</td>\n",
       "      <td>1.000000</td>\n",
       "      <td>0.000000</td>\n",
       "      <td>0.000000</td>\n",
       "      <td>0.00000</td>\n",
       "      <td>1.000000</td>\n",
       "      <td>0.000000</td>\n",
       "    </tr>\n",
       "    <tr>\n",
       "      <th>25%</th>\n",
       "      <td>2.000000</td>\n",
       "      <td>31.00000</td>\n",
       "      <td>0.000000</td>\n",
       "      <td>10.000000</td>\n",
       "      <td>0.000000</td>\n",
       "      <td>0.000000</td>\n",
       "      <td>0.00000</td>\n",
       "      <td>6.000000</td>\n",
       "      <td>0.000000</td>\n",
       "    </tr>\n",
       "    <tr>\n",
       "      <th>50%</th>\n",
       "      <td>4.000000</td>\n",
       "      <td>44.00000</td>\n",
       "      <td>1.000000</td>\n",
       "      <td>15.000000</td>\n",
       "      <td>0.000000</td>\n",
       "      <td>0.000000</td>\n",
       "      <td>0.00000</td>\n",
       "      <td>8.000000</td>\n",
       "      <td>0.000000</td>\n",
       "    </tr>\n",
       "    <tr>\n",
       "      <th>75%</th>\n",
       "      <td>6.000000</td>\n",
       "      <td>57.00000</td>\n",
       "      <td>2.000000</td>\n",
       "      <td>20.000000</td>\n",
       "      <td>0.000000</td>\n",
       "      <td>0.000000</td>\n",
       "      <td>1.00000</td>\n",
       "      <td>9.000000</td>\n",
       "      <td>1.000000</td>\n",
       "    </tr>\n",
       "    <tr>\n",
       "      <th>max</th>\n",
       "      <td>14.000000</td>\n",
       "      <td>126.00000</td>\n",
       "      <td>6.000000</td>\n",
       "      <td>81.000000</td>\n",
       "      <td>36.000000</td>\n",
       "      <td>64.000000</td>\n",
       "      <td>21.00000</td>\n",
       "      <td>16.000000</td>\n",
       "      <td>1.000000</td>\n",
       "    </tr>\n",
       "  </tbody>\n",
       "</table>\n",
       "</div>"
      ],
      "text/plain": [
       "       time_in_hospital  num_lab_procedures  num_procedures  num_medications  \\\n",
       "count      25000.000000         25000.00000    25000.000000     25000.000000   \n",
       "mean           4.395640            42.96012        1.341080        15.988440   \n",
       "std            2.991165            19.76881        1.705398         8.107743   \n",
       "min            1.000000             1.00000        0.000000         1.000000   \n",
       "25%            2.000000            31.00000        0.000000        10.000000   \n",
       "50%            4.000000            44.00000        1.000000        15.000000   \n",
       "75%            6.000000            57.00000        2.000000        20.000000   \n",
       "max           14.000000           126.00000        6.000000        81.000000   \n",
       "\n",
       "       number_outpatient  number_emergency  number_inpatient  \\\n",
       "count       25000.000000      25000.000000       25000.00000   \n",
       "mean            0.365920          0.203280           0.64300   \n",
       "std             1.224419          0.982973           1.26286   \n",
       "min             0.000000          0.000000           0.00000   \n",
       "25%             0.000000          0.000000           0.00000   \n",
       "50%             0.000000          0.000000           0.00000   \n",
       "75%             0.000000          0.000000           1.00000   \n",
       "max            36.000000         64.000000          21.00000   \n",
       "\n",
       "       number_diagnoses    readmitted  \n",
       "count      25000.000000  25000.000000  \n",
       "mean           7.420160      0.456400  \n",
       "std            1.940932      0.498105  \n",
       "min            1.000000      0.000000  \n",
       "25%            6.000000      0.000000  \n",
       "50%            8.000000      0.000000  \n",
       "75%            9.000000      1.000000  \n",
       "max           16.000000      1.000000  "
      ]
     },
     "execution_count": 11,
     "metadata": {},
     "output_type": "execute_result"
    }
   ],
   "source": [
    "train.describe()"
   ]
  },
  {
   "cell_type": "code",
   "execution_count": 12,
   "metadata": {
    "ExecuteTime": {
     "end_time": "2019-07-26T21:38:29.279001Z",
     "start_time": "2019-07-26T21:38:29.270477Z"
    }
   },
   "outputs": [
    {
     "data": {
      "text/plain": [
       "Index(['time_in_hospital', 'num_lab_procedures', 'num_procedures',\n",
       "       'num_medications', 'number_outpatient', 'number_emergency',\n",
       "       'number_inpatient', 'number_diagnoses', 'race_Caucasian',\n",
       "       'race_AfricanAmerican', 'gender_Female', 'age_[70-80)', 'age_[60-70)',\n",
       "       'age_[50-60)', 'age_[80-90)', 'age_[40-50)', 'payer_code_?',\n",
       "       'payer_code_MC', 'payer_code_HM', 'payer_code_SP', 'payer_code_BC',\n",
       "       'medical_specialty_?', 'medical_specialty_InternalMedicine',\n",
       "       'medical_specialty_Emergency/Trauma',\n",
       "       'medical_specialty_Family/GeneralPractice',\n",
       "       'medical_specialty_Cardiology', 'diag_1_428', 'diag_1_414',\n",
       "       'diag_1_786', 'diag_2_276', 'diag_2_428', 'diag_2_250', 'diag_2_427',\n",
       "       'diag_3_250', 'diag_3_401', 'diag_3_276', 'diag_3_428',\n",
       "       'max_glu_serum_None', 'A1Cresult_None', 'metformin_No',\n",
       "       'repaglinide_No', 'nateglinide_No', 'chlorpropamide_No',\n",
       "       'glimepiride_No', 'acetohexamide_No', 'glipizide_No', 'glyburide_No',\n",
       "       'tolbutamide_No', 'pioglitazone_No', 'rosiglitazone_No', 'acarbose_No',\n",
       "       'miglitol_No', 'troglitazone_No', 'tolazamide_No', 'examide_No',\n",
       "       'citoglipton_No', 'insulin_No', 'glyburide-metformin_No',\n",
       "       'glipizide-metformin_No', 'glimepiride-pioglitazone_No',\n",
       "       'metformin-rosiglitazone_No', 'metformin-pioglitazone_No', 'change_No',\n",
       "       'diabetesMed_Yes', 'readmitted'],\n",
       "      dtype='object')"
      ]
     },
     "execution_count": 12,
     "metadata": {},
     "output_type": "execute_result"
    }
   ],
   "source": [
    "train.columns"
   ]
  },
  {
   "cell_type": "markdown",
   "metadata": {},
   "source": [
    "# EDA"
   ]
  },
  {
   "cell_type": "code",
   "execution_count": 13,
   "metadata": {
    "ExecuteTime": {
     "end_time": "2019-07-26T21:38:30.947089Z",
     "start_time": "2019-07-26T21:38:29.535109Z"
    }
   },
   "outputs": [],
   "source": [
    "import pandas as pd\n",
    "import numpy as np\n",
    "import matplotlib.pyplot as plt\n",
    "import seaborn as sns\n",
    "\n",
    "plt.style.use('ggplot')\n",
    "%matplotlib inline\n",
    "np.set_printoptions(suppress=True) # Suppress scientific notation where possible\n"
   ]
  },
  {
   "cell_type": "code",
   "execution_count": 14,
   "metadata": {
    "ExecuteTime": {
     "end_time": "2019-07-26T21:38:31.715275Z",
     "start_time": "2019-07-26T21:38:30.950587Z"
    }
   },
   "outputs": [],
   "source": [
    "from sklearn import datasets\n",
    "from sklearn.neighbors import KNeighborsClassifier\n",
    "from sklearn.linear_model import LogisticRegression\n",
    "from sklearn.model_selection import train_test_split\n",
    "from sklearn.metrics import precision_score, recall_score, precision_recall_curve,f1_score, fbeta_score"
   ]
  },
  {
   "cell_type": "code",
   "execution_count": 15,
   "metadata": {
    "ExecuteTime": {
     "end_time": "2019-07-26T21:38:31.726515Z",
     "start_time": "2019-07-26T21:38:31.719109Z"
    }
   },
   "outputs": [
    {
     "data": {
      "text/plain": [
       "(25000, 65)"
      ]
     },
     "execution_count": 15,
     "metadata": {},
     "output_type": "execute_result"
    }
   ],
   "source": [
    "train.shape"
   ]
  },
  {
   "cell_type": "code",
   "execution_count": 16,
   "metadata": {
    "ExecuteTime": {
     "end_time": "2019-07-26T21:38:31.753724Z",
     "start_time": "2019-07-26T21:38:31.729298Z"
    }
   },
   "outputs": [],
   "source": [
    "# As usual, create our train/test split\n",
    "# This will become particularly important as we calculate our error metrics\n",
    "\n",
    "X_train, X_test, y_train, y_test = train_test_split(train.drop(['readmitted'],axis = 1), train['readmitted'], \\\n",
    "                                                            test_size=0.3, random_state=41)"
   ]
  },
  {
   "cell_type": "code",
   "execution_count": 17,
   "metadata": {
    "ExecuteTime": {
     "end_time": "2019-07-26T21:38:31.785732Z",
     "start_time": "2019-07-26T21:38:31.755768Z"
    },
    "scrolled": true
   },
   "outputs": [
    {
     "data": {
      "text/html": [
       "<div>\n",
       "<style scoped>\n",
       "    .dataframe tbody tr th:only-of-type {\n",
       "        vertical-align: middle;\n",
       "    }\n",
       "\n",
       "    .dataframe tbody tr th {\n",
       "        vertical-align: top;\n",
       "    }\n",
       "\n",
       "    .dataframe thead th {\n",
       "        text-align: right;\n",
       "    }\n",
       "</style>\n",
       "<table border=\"1\" class=\"dataframe\">\n",
       "  <thead>\n",
       "    <tr style=\"text-align: right;\">\n",
       "      <th></th>\n",
       "      <th>time_in_hospital</th>\n",
       "      <th>num_lab_procedures</th>\n",
       "      <th>num_procedures</th>\n",
       "      <th>num_medications</th>\n",
       "      <th>number_outpatient</th>\n",
       "      <th>number_emergency</th>\n",
       "      <th>number_inpatient</th>\n",
       "      <th>number_diagnoses</th>\n",
       "      <th>race_Caucasian</th>\n",
       "      <th>race_AfricanAmerican</th>\n",
       "      <th>...</th>\n",
       "      <th>examide_No</th>\n",
       "      <th>citoglipton_No</th>\n",
       "      <th>insulin_No</th>\n",
       "      <th>glyburide-metformin_No</th>\n",
       "      <th>glipizide-metformin_No</th>\n",
       "      <th>glimepiride-pioglitazone_No</th>\n",
       "      <th>metformin-rosiglitazone_No</th>\n",
       "      <th>metformin-pioglitazone_No</th>\n",
       "      <th>change_No</th>\n",
       "      <th>diabetesMed_Yes</th>\n",
       "    </tr>\n",
       "  </thead>\n",
       "  <tbody>\n",
       "    <tr>\n",
       "      <th>17413</th>\n",
       "      <td>4</td>\n",
       "      <td>37</td>\n",
       "      <td>0</td>\n",
       "      <td>8</td>\n",
       "      <td>0</td>\n",
       "      <td>0</td>\n",
       "      <td>4</td>\n",
       "      <td>7</td>\n",
       "      <td>False</td>\n",
       "      <td>True</td>\n",
       "      <td>...</td>\n",
       "      <td>True</td>\n",
       "      <td>True</td>\n",
       "      <td>False</td>\n",
       "      <td>True</td>\n",
       "      <td>True</td>\n",
       "      <td>True</td>\n",
       "      <td>True</td>\n",
       "      <td>True</td>\n",
       "      <td>True</td>\n",
       "      <td>True</td>\n",
       "    </tr>\n",
       "    <tr>\n",
       "      <th>18578</th>\n",
       "      <td>3</td>\n",
       "      <td>44</td>\n",
       "      <td>0</td>\n",
       "      <td>15</td>\n",
       "      <td>1</td>\n",
       "      <td>0</td>\n",
       "      <td>0</td>\n",
       "      <td>9</td>\n",
       "      <td>False</td>\n",
       "      <td>False</td>\n",
       "      <td>...</td>\n",
       "      <td>True</td>\n",
       "      <td>True</td>\n",
       "      <td>True</td>\n",
       "      <td>False</td>\n",
       "      <td>True</td>\n",
       "      <td>True</td>\n",
       "      <td>True</td>\n",
       "      <td>True</td>\n",
       "      <td>False</td>\n",
       "      <td>True</td>\n",
       "    </tr>\n",
       "    <tr>\n",
       "      <th>9109</th>\n",
       "      <td>1</td>\n",
       "      <td>54</td>\n",
       "      <td>0</td>\n",
       "      <td>7</td>\n",
       "      <td>0</td>\n",
       "      <td>0</td>\n",
       "      <td>0</td>\n",
       "      <td>9</td>\n",
       "      <td>False</td>\n",
       "      <td>True</td>\n",
       "      <td>...</td>\n",
       "      <td>True</td>\n",
       "      <td>True</td>\n",
       "      <td>False</td>\n",
       "      <td>True</td>\n",
       "      <td>True</td>\n",
       "      <td>True</td>\n",
       "      <td>True</td>\n",
       "      <td>True</td>\n",
       "      <td>True</td>\n",
       "      <td>True</td>\n",
       "    </tr>\n",
       "    <tr>\n",
       "      <th>3274</th>\n",
       "      <td>2</td>\n",
       "      <td>20</td>\n",
       "      <td>0</td>\n",
       "      <td>12</td>\n",
       "      <td>0</td>\n",
       "      <td>0</td>\n",
       "      <td>0</td>\n",
       "      <td>9</td>\n",
       "      <td>True</td>\n",
       "      <td>False</td>\n",
       "      <td>...</td>\n",
       "      <td>True</td>\n",
       "      <td>True</td>\n",
       "      <td>True</td>\n",
       "      <td>True</td>\n",
       "      <td>True</td>\n",
       "      <td>True</td>\n",
       "      <td>True</td>\n",
       "      <td>True</td>\n",
       "      <td>True</td>\n",
       "      <td>True</td>\n",
       "    </tr>\n",
       "    <tr>\n",
       "      <th>7965</th>\n",
       "      <td>2</td>\n",
       "      <td>40</td>\n",
       "      <td>0</td>\n",
       "      <td>5</td>\n",
       "      <td>0</td>\n",
       "      <td>0</td>\n",
       "      <td>0</td>\n",
       "      <td>3</td>\n",
       "      <td>True</td>\n",
       "      <td>False</td>\n",
       "      <td>...</td>\n",
       "      <td>True</td>\n",
       "      <td>True</td>\n",
       "      <td>False</td>\n",
       "      <td>True</td>\n",
       "      <td>True</td>\n",
       "      <td>True</td>\n",
       "      <td>True</td>\n",
       "      <td>True</td>\n",
       "      <td>True</td>\n",
       "      <td>True</td>\n",
       "    </tr>\n",
       "  </tbody>\n",
       "</table>\n",
       "<p>5 rows × 64 columns</p>\n",
       "</div>"
      ],
      "text/plain": [
       "       time_in_hospital  num_lab_procedures  num_procedures  num_medications  \\\n",
       "17413                 4                  37               0                8   \n",
       "18578                 3                  44               0               15   \n",
       "9109                  1                  54               0                7   \n",
       "3274                  2                  20               0               12   \n",
       "7965                  2                  40               0                5   \n",
       "\n",
       "       number_outpatient  number_emergency  number_inpatient  \\\n",
       "17413                  0                 0                 4   \n",
       "18578                  1                 0                 0   \n",
       "9109                   0                 0                 0   \n",
       "3274                   0                 0                 0   \n",
       "7965                   0                 0                 0   \n",
       "\n",
       "       number_diagnoses  race_Caucasian  race_AfricanAmerican  ...  \\\n",
       "17413                 7           False                  True  ...   \n",
       "18578                 9           False                 False  ...   \n",
       "9109                  9           False                  True  ...   \n",
       "3274                  9            True                 False  ...   \n",
       "7965                  3            True                 False  ...   \n",
       "\n",
       "       examide_No  citoglipton_No  insulin_No  glyburide-metformin_No  \\\n",
       "17413        True            True       False                    True   \n",
       "18578        True            True        True                   False   \n",
       "9109         True            True       False                    True   \n",
       "3274         True            True        True                    True   \n",
       "7965         True            True       False                    True   \n",
       "\n",
       "       glipizide-metformin_No  glimepiride-pioglitazone_No  \\\n",
       "17413                    True                         True   \n",
       "18578                    True                         True   \n",
       "9109                     True                         True   \n",
       "3274                     True                         True   \n",
       "7965                     True                         True   \n",
       "\n",
       "       metformin-rosiglitazone_No  metformin-pioglitazone_No  change_No  \\\n",
       "17413                        True                       True       True   \n",
       "18578                        True                       True      False   \n",
       "9109                         True                       True       True   \n",
       "3274                         True                       True       True   \n",
       "7965                         True                       True       True   \n",
       "\n",
       "       diabetesMed_Yes  \n",
       "17413             True  \n",
       "18578             True  \n",
       "9109              True  \n",
       "3274              True  \n",
       "7965              True  \n",
       "\n",
       "[5 rows x 64 columns]"
      ]
     },
     "execution_count": 17,
     "metadata": {},
     "output_type": "execute_result"
    }
   ],
   "source": [
    "X_test.head()\n"
   ]
  },
  {
   "cell_type": "code",
   "execution_count": 18,
   "metadata": {
    "ExecuteTime": {
     "end_time": "2019-07-26T21:38:31.795947Z",
     "start_time": "2019-07-26T21:38:31.790103Z"
    }
   },
   "outputs": [],
   "source": [
    "# Let's look at feature target relationshoip"
   ]
  },
  {
   "cell_type": "code",
   "execution_count": 19,
   "metadata": {
    "ExecuteTime": {
     "end_time": "2019-07-26T21:38:32.047834Z",
     "start_time": "2019-07-26T21:38:31.807095Z"
    },
    "scrolled": true
   },
   "outputs": [
    {
     "data": {
      "image/png": "[encoded data removed]",
      "text/plain": [
       "<Figure size 432x288 with 1 Axes>"
      ]
     },
     "metadata": {
      "needs_background": "light"
     },
     "output_type": "display_data"
    },
    {
     "data": {
      "text/plain": [
       "<Figure size 432x288 with 0 Axes>"
      ]
     },
     "metadata": {},
     "output_type": "display_data"
    }
   ],
   "source": [
    "sns.countplot(x = train['readmitted'],data=train,palette='hls')\n",
    "plt.show()\n",
    "plt.savefig(\"countplot\")"
   ]
  },
  {
   "cell_type": "code",
   "execution_count": 20,
   "metadata": {
    "ExecuteTime": {
     "end_time": "2019-07-26T21:38:32.128336Z",
     "start_time": "2019-07-26T21:38:32.053041Z"
    },
    "scrolled": false
   },
   "outputs": [
    {
     "data": {
      "text/html": [
       "<div>\n",
       "<style scoped>\n",
       "    .dataframe tbody tr th:only-of-type {\n",
       "        vertical-align: middle;\n",
       "    }\n",
       "\n",
       "    .dataframe tbody tr th {\n",
       "        vertical-align: top;\n",
       "    }\n",
       "\n",
       "    .dataframe thead th {\n",
       "        text-align: right;\n",
       "    }\n",
       "</style>\n",
       "<table border=\"1\" class=\"dataframe\">\n",
       "  <thead>\n",
       "    <tr style=\"text-align: right;\">\n",
       "      <th></th>\n",
       "      <th>time_in_hospital</th>\n",
       "      <th>num_lab_procedures</th>\n",
       "      <th>num_procedures</th>\n",
       "      <th>num_medications</th>\n",
       "      <th>number_outpatient</th>\n",
       "      <th>number_emergency</th>\n",
       "      <th>number_inpatient</th>\n",
       "      <th>number_diagnoses</th>\n",
       "      <th>race_Caucasian</th>\n",
       "      <th>race_AfricanAmerican</th>\n",
       "      <th>...</th>\n",
       "      <th>examide_No</th>\n",
       "      <th>citoglipton_No</th>\n",
       "      <th>insulin_No</th>\n",
       "      <th>glyburide-metformin_No</th>\n",
       "      <th>glipizide-metformin_No</th>\n",
       "      <th>glimepiride-pioglitazone_No</th>\n",
       "      <th>metformin-rosiglitazone_No</th>\n",
       "      <th>metformin-pioglitazone_No</th>\n",
       "      <th>change_No</th>\n",
       "      <th>diabetesMed_Yes</th>\n",
       "    </tr>\n",
       "    <tr>\n",
       "      <th>readmitted</th>\n",
       "      <th></th>\n",
       "      <th></th>\n",
       "      <th></th>\n",
       "      <th></th>\n",
       "      <th></th>\n",
       "      <th></th>\n",
       "      <th></th>\n",
       "      <th></th>\n",
       "      <th></th>\n",
       "      <th></th>\n",
       "      <th></th>\n",
       "      <th></th>\n",
       "      <th></th>\n",
       "      <th></th>\n",
       "      <th></th>\n",
       "      <th></th>\n",
       "      <th></th>\n",
       "      <th></th>\n",
       "      <th></th>\n",
       "      <th></th>\n",
       "      <th></th>\n",
       "    </tr>\n",
       "  </thead>\n",
       "  <tbody>\n",
       "    <tr>\n",
       "      <th>0</th>\n",
       "      <td>4.237822</td>\n",
       "      <td>42.233996</td>\n",
       "      <td>1.419132</td>\n",
       "      <td>15.569610</td>\n",
       "      <td>0.268212</td>\n",
       "      <td>0.112656</td>\n",
       "      <td>0.392494</td>\n",
       "      <td>7.200662</td>\n",
       "      <td>0.731273</td>\n",
       "      <td>0.192494</td>\n",
       "      <td>...</td>\n",
       "      <td>1.0</td>\n",
       "      <td>1.0</td>\n",
       "      <td>0.490802</td>\n",
       "      <td>0.994923</td>\n",
       "      <td>0.999926</td>\n",
       "      <td>1.000000</td>\n",
       "      <td>1.0</td>\n",
       "      <td>1.0</td>\n",
       "      <td>0.565489</td>\n",
       "      <td>0.744224</td>\n",
       "    </tr>\n",
       "    <tr>\n",
       "      <th>1</th>\n",
       "      <td>4.583611</td>\n",
       "      <td>43.824978</td>\n",
       "      <td>1.248116</td>\n",
       "      <td>16.487292</td>\n",
       "      <td>0.482296</td>\n",
       "      <td>0.311218</td>\n",
       "      <td>0.941367</td>\n",
       "      <td>7.681595</td>\n",
       "      <td>0.755039</td>\n",
       "      <td>0.192901</td>\n",
       "      <td>...</td>\n",
       "      <td>1.0</td>\n",
       "      <td>1.0</td>\n",
       "      <td>0.442331</td>\n",
       "      <td>0.992112</td>\n",
       "      <td>0.999737</td>\n",
       "      <td>0.999912</td>\n",
       "      <td>1.0</td>\n",
       "      <td>1.0</td>\n",
       "      <td>0.515337</td>\n",
       "      <td>0.795004</td>\n",
       "    </tr>\n",
       "  </tbody>\n",
       "</table>\n",
       "<p>2 rows × 64 columns</p>\n",
       "</div>"
      ],
      "text/plain": [
       "            time_in_hospital  num_lab_procedures  num_procedures  \\\n",
       "readmitted                                                         \n",
       "0                   4.237822           42.233996        1.419132   \n",
       "1                   4.583611           43.824978        1.248116   \n",
       "\n",
       "            num_medications  number_outpatient  number_emergency  \\\n",
       "readmitted                                                         \n",
       "0                 15.569610           0.268212          0.112656   \n",
       "1                 16.487292           0.482296          0.311218   \n",
       "\n",
       "            number_inpatient  number_diagnoses  race_Caucasian  \\\n",
       "readmitted                                                       \n",
       "0                   0.392494          7.200662        0.731273   \n",
       "1                   0.941367          7.681595        0.755039   \n",
       "\n",
       "            race_AfricanAmerican  ...  examide_No  citoglipton_No  insulin_No  \\\n",
       "readmitted                        ...                                           \n",
       "0                       0.192494  ...         1.0             1.0    0.490802   \n",
       "1                       0.192901  ...         1.0             1.0    0.442331   \n",
       "\n",
       "            glyburide-metformin_No  glipizide-metformin_No  \\\n",
       "readmitted                                                   \n",
       "0                         0.994923                0.999926   \n",
       "1                         0.992112                0.999737   \n",
       "\n",
       "            glimepiride-pioglitazone_No  metformin-rosiglitazone_No  \\\n",
       "readmitted                                                            \n",
       "0                              1.000000                         1.0   \n",
       "1                              0.999912                         1.0   \n",
       "\n",
       "            metformin-pioglitazone_No  change_No  diabetesMed_Yes  \n",
       "readmitted                                                         \n",
       "0                                 1.0   0.565489         0.744224  \n",
       "1                                 1.0   0.515337         0.795004  \n",
       "\n",
       "[2 rows x 64 columns]"
      ]
     },
     "execution_count": 20,
     "metadata": {},
     "output_type": "execute_result"
    }
   ],
   "source": [
    "train.groupby('readmitted').mean()"
   ]
  },
  {
   "cell_type": "code",
   "execution_count": 21,
   "metadata": {
    "ExecuteTime": {
     "end_time": "2019-07-26T21:38:32.185116Z",
     "start_time": "2019-07-26T21:38:32.136568Z"
    }
   },
   "outputs": [
    {
     "data": {
      "text/html": [
       "<div>\n",
       "<style scoped>\n",
       "    .dataframe tbody tr th:only-of-type {\n",
       "        vertical-align: middle;\n",
       "    }\n",
       "\n",
       "    .dataframe tbody tr th {\n",
       "        vertical-align: top;\n",
       "    }\n",
       "\n",
       "    .dataframe thead th {\n",
       "        text-align: right;\n",
       "    }\n",
       "</style>\n",
       "<table border=\"1\" class=\"dataframe\">\n",
       "  <thead>\n",
       "    <tr style=\"text-align: right;\">\n",
       "      <th></th>\n",
       "      <th>time_in_hospital</th>\n",
       "      <th>num_lab_procedures</th>\n",
       "      <th>num_procedures</th>\n",
       "      <th>num_medications</th>\n",
       "      <th>number_outpatient</th>\n",
       "      <th>number_emergency</th>\n",
       "      <th>number_inpatient</th>\n",
       "      <th>number_diagnoses</th>\n",
       "      <th>race_Caucasian</th>\n",
       "      <th>race_AfricanAmerican</th>\n",
       "      <th>...</th>\n",
       "      <th>examide_No</th>\n",
       "      <th>citoglipton_No</th>\n",
       "      <th>insulin_No</th>\n",
       "      <th>glyburide-metformin_No</th>\n",
       "      <th>glipizide-metformin_No</th>\n",
       "      <th>glimepiride-pioglitazone_No</th>\n",
       "      <th>metformin-rosiglitazone_No</th>\n",
       "      <th>metformin-pioglitazone_No</th>\n",
       "      <th>change_No</th>\n",
       "      <th>readmitted</th>\n",
       "    </tr>\n",
       "    <tr>\n",
       "      <th>diabetesMed_Yes</th>\n",
       "      <th></th>\n",
       "      <th></th>\n",
       "      <th></th>\n",
       "      <th></th>\n",
       "      <th></th>\n",
       "      <th></th>\n",
       "      <th></th>\n",
       "      <th></th>\n",
       "      <th></th>\n",
       "      <th></th>\n",
       "      <th></th>\n",
       "      <th></th>\n",
       "      <th></th>\n",
       "      <th></th>\n",
       "      <th></th>\n",
       "      <th></th>\n",
       "      <th></th>\n",
       "      <th></th>\n",
       "      <th></th>\n",
       "      <th></th>\n",
       "      <th></th>\n",
       "    </tr>\n",
       "  </thead>\n",
       "  <tbody>\n",
       "    <tr>\n",
       "      <th>False</th>\n",
       "      <td>4.033878</td>\n",
       "      <td>41.835082</td>\n",
       "      <td>1.363715</td>\n",
       "      <td>13.127085</td>\n",
       "      <td>0.307137</td>\n",
       "      <td>0.160619</td>\n",
       "      <td>0.593465</td>\n",
       "      <td>7.318487</td>\n",
       "      <td>0.752193</td>\n",
       "      <td>0.185727</td>\n",
       "      <td>...</td>\n",
       "      <td>1.0</td>\n",
       "      <td>1.0</td>\n",
       "      <td>1.000000</td>\n",
       "      <td>1.000000</td>\n",
       "      <td>1.000000</td>\n",
       "      <td>1.000000</td>\n",
       "      <td>1.0</td>\n",
       "      <td>1.0</td>\n",
       "      <td>1.000000</td>\n",
       "      <td>0.402236</td>\n",
       "    </tr>\n",
       "    <tr>\n",
       "      <th>True</th>\n",
       "      <td>4.505291</td>\n",
       "      <td>43.301121</td>\n",
       "      <td>1.334219</td>\n",
       "      <td>16.855721</td>\n",
       "      <td>0.383737</td>\n",
       "      <td>0.216211</td>\n",
       "      <td>0.658014</td>\n",
       "      <td>7.450977</td>\n",
       "      <td>0.739067</td>\n",
       "      <td>0.194788</td>\n",
       "      <td>...</td>\n",
       "      <td>1.0</td>\n",
       "      <td>1.0</td>\n",
       "      <td>0.307636</td>\n",
       "      <td>0.991712</td>\n",
       "      <td>0.999792</td>\n",
       "      <td>0.999948</td>\n",
       "      <td>1.0</td>\n",
       "      <td>1.0</td>\n",
       "      <td>0.403961</td>\n",
       "      <td>0.472817</td>\n",
       "    </tr>\n",
       "  </tbody>\n",
       "</table>\n",
       "<p>2 rows × 64 columns</p>\n",
       "</div>"
      ],
      "text/plain": [
       "                 time_in_hospital  num_lab_procedures  num_procedures  \\\n",
       "diabetesMed_Yes                                                         \n",
       "False                    4.033878           41.835082        1.363715   \n",
       "True                     4.505291           43.301121        1.334219   \n",
       "\n",
       "                 num_medications  number_outpatient  number_emergency  \\\n",
       "diabetesMed_Yes                                                         \n",
       "False                  13.127085           0.307137          0.160619   \n",
       "True                   16.855721           0.383737          0.216211   \n",
       "\n",
       "                 number_inpatient  number_diagnoses  race_Caucasian  \\\n",
       "diabetesMed_Yes                                                       \n",
       "False                    0.593465          7.318487        0.752193   \n",
       "True                     0.658014          7.450977        0.739067   \n",
       "\n",
       "                 race_AfricanAmerican  ...  examide_No  citoglipton_No  \\\n",
       "diabetesMed_Yes                        ...                               \n",
       "False                        0.185727  ...         1.0             1.0   \n",
       "True                         0.194788  ...         1.0             1.0   \n",
       "\n",
       "                 insulin_No  glyburide-metformin_No  glipizide-metformin_No  \\\n",
       "diabetesMed_Yes                                                               \n",
       "False              1.000000                1.000000                1.000000   \n",
       "True               0.307636                0.991712                0.999792   \n",
       "\n",
       "                 glimepiride-pioglitazone_No  metformin-rosiglitazone_No  \\\n",
       "diabetesMed_Yes                                                            \n",
       "False                               1.000000                         1.0   \n",
       "True                                0.999948                         1.0   \n",
       "\n",
       "                 metformin-pioglitazone_No  change_No  readmitted  \n",
       "diabetesMed_Yes                                                    \n",
       "False                                  1.0   1.000000    0.402236  \n",
       "True                                   1.0   0.403961    0.472817  \n",
       "\n",
       "[2 rows x 64 columns]"
      ]
     },
     "execution_count": 21,
     "metadata": {},
     "output_type": "execute_result"
    }
   ],
   "source": [
    "train.groupby(\"diabetesMed_Yes\").mean()"
   ]
  },
  {
   "cell_type": "code",
   "execution_count": 22,
   "metadata": {
    "ExecuteTime": {
     "end_time": "2019-07-26T21:38:32.248808Z",
     "start_time": "2019-07-26T21:38:32.192190Z"
    }
   },
   "outputs": [
    {
     "data": {
      "text/html": [
       "<div>\n",
       "<style scoped>\n",
       "    .dataframe tbody tr th:only-of-type {\n",
       "        vertical-align: middle;\n",
       "    }\n",
       "\n",
       "    .dataframe tbody tr th {\n",
       "        vertical-align: top;\n",
       "    }\n",
       "\n",
       "    .dataframe thead th {\n",
       "        text-align: right;\n",
       "    }\n",
       "</style>\n",
       "<table border=\"1\" class=\"dataframe\">\n",
       "  <thead>\n",
       "    <tr style=\"text-align: right;\">\n",
       "      <th></th>\n",
       "      <th>time_in_hospital</th>\n",
       "      <th>num_lab_procedures</th>\n",
       "      <th>num_procedures</th>\n",
       "      <th>num_medications</th>\n",
       "      <th>number_outpatient</th>\n",
       "      <th>number_emergency</th>\n",
       "      <th>number_inpatient</th>\n",
       "      <th>number_diagnoses</th>\n",
       "      <th>race_Caucasian</th>\n",
       "      <th>gender_Female</th>\n",
       "      <th>...</th>\n",
       "      <th>citoglipton_No</th>\n",
       "      <th>insulin_No</th>\n",
       "      <th>glyburide-metformin_No</th>\n",
       "      <th>glipizide-metformin_No</th>\n",
       "      <th>glimepiride-pioglitazone_No</th>\n",
       "      <th>metformin-rosiglitazone_No</th>\n",
       "      <th>metformin-pioglitazone_No</th>\n",
       "      <th>change_No</th>\n",
       "      <th>diabetesMed_Yes</th>\n",
       "      <th>readmitted</th>\n",
       "    </tr>\n",
       "    <tr>\n",
       "      <th>race_AfricanAmerican</th>\n",
       "      <th></th>\n",
       "      <th></th>\n",
       "      <th></th>\n",
       "      <th></th>\n",
       "      <th></th>\n",
       "      <th></th>\n",
       "      <th></th>\n",
       "      <th></th>\n",
       "      <th></th>\n",
       "      <th></th>\n",
       "      <th></th>\n",
       "      <th></th>\n",
       "      <th></th>\n",
       "      <th></th>\n",
       "      <th></th>\n",
       "      <th></th>\n",
       "      <th></th>\n",
       "      <th></th>\n",
       "      <th></th>\n",
       "      <th></th>\n",
       "      <th></th>\n",
       "    </tr>\n",
       "  </thead>\n",
       "  <tbody>\n",
       "    <tr>\n",
       "      <th>False</th>\n",
       "      <td>4.375960</td>\n",
       "      <td>42.697468</td>\n",
       "      <td>1.361393</td>\n",
       "      <td>16.113908</td>\n",
       "      <td>0.393995</td>\n",
       "      <td>0.187485</td>\n",
       "      <td>0.629441</td>\n",
       "      <td>7.486697</td>\n",
       "      <td>0.919239</td>\n",
       "      <td>0.517663</td>\n",
       "      <td>...</td>\n",
       "      <td>1.0</td>\n",
       "      <td>0.480999</td>\n",
       "      <td>0.993361</td>\n",
       "      <td>0.999802</td>\n",
       "      <td>0.99995</td>\n",
       "      <td>1.0</td>\n",
       "      <td>1.0</td>\n",
       "      <td>0.540603</td>\n",
       "      <td>0.765397</td>\n",
       "      <td>0.456275</td>\n",
       "    </tr>\n",
       "    <tr>\n",
       "      <th>True</th>\n",
       "      <td>4.478098</td>\n",
       "      <td>44.060619</td>\n",
       "      <td>1.255968</td>\n",
       "      <td>15.462736</td>\n",
       "      <td>0.248287</td>\n",
       "      <td>0.269462</td>\n",
       "      <td>0.699813</td>\n",
       "      <td>7.141374</td>\n",
       "      <td>0.000000</td>\n",
       "      <td>0.620511</td>\n",
       "      <td>...</td>\n",
       "      <td>1.0</td>\n",
       "      <td>0.417065</td>\n",
       "      <td>0.994810</td>\n",
       "      <td>1.000000</td>\n",
       "      <td>1.00000</td>\n",
       "      <td>1.0</td>\n",
       "      <td>1.0</td>\n",
       "      <td>0.550965</td>\n",
       "      <td>0.775794</td>\n",
       "      <td>0.456923</td>\n",
       "    </tr>\n",
       "  </tbody>\n",
       "</table>\n",
       "<p>2 rows × 64 columns</p>\n",
       "</div>"
      ],
      "text/plain": [
       "                      time_in_hospital  num_lab_procedures  num_procedures  \\\n",
       "race_AfricanAmerican                                                         \n",
       "False                         4.375960           42.697468        1.361393   \n",
       "True                          4.478098           44.060619        1.255968   \n",
       "\n",
       "                      num_medications  number_outpatient  number_emergency  \\\n",
       "race_AfricanAmerican                                                         \n",
       "False                       16.113908           0.393995          0.187485   \n",
       "True                        15.462736           0.248287          0.269462   \n",
       "\n",
       "                      number_inpatient  number_diagnoses  race_Caucasian  \\\n",
       "race_AfricanAmerican                                                       \n",
       "False                         0.629441          7.486697        0.919239   \n",
       "True                          0.699813          7.141374        0.000000   \n",
       "\n",
       "                      gender_Female  ...  citoglipton_No  insulin_No  \\\n",
       "race_AfricanAmerican                 ...                               \n",
       "False                      0.517663  ...             1.0    0.480999   \n",
       "True                       0.620511  ...             1.0    0.417065   \n",
       "\n",
       "                      glyburide-metformin_No  glipizide-metformin_No  \\\n",
       "race_AfricanAmerican                                                   \n",
       "False                               0.993361                0.999802   \n",
       "True                                0.994810                1.000000   \n",
       "\n",
       "                      glimepiride-pioglitazone_No  metformin-rosiglitazone_No  \\\n",
       "race_AfricanAmerican                                                            \n",
       "False                                     0.99995                         1.0   \n",
       "True                                      1.00000                         1.0   \n",
       "\n",
       "                      metformin-pioglitazone_No  change_No  diabetesMed_Yes  \\\n",
       "race_AfricanAmerican                                                          \n",
       "False                                       1.0   0.540603         0.765397   \n",
       "True                                        1.0   0.550965         0.775794   \n",
       "\n",
       "                      readmitted  \n",
       "race_AfricanAmerican              \n",
       "False                   0.456275  \n",
       "True                    0.456923  \n",
       "\n",
       "[2 rows x 64 columns]"
      ]
     },
     "execution_count": 22,
     "metadata": {},
     "output_type": "execute_result"
    }
   ],
   "source": [
    "train.groupby(\"race_AfricanAmerican\").mean()"
   ]
  },
  {
   "cell_type": "markdown",
   "metadata": {},
   "source": [
    "Few observations:\n",
    "- the average time in hospital for readmitted and non readmitted patient is around 4 days\n",
    "- No big changes on num_lab, num_medications, number_diagnosis, race\n",
    "- The number of oupatient, inpatient, emergencies for readmitted patients is almost the double compared to to the non readmitted patients\n",
    "- Surprisingly the num_procedures is lower for readmitted patients"
   ]
  },
  {
   "cell_type": "markdown",
   "metadata": {},
   "source": [
    "## knn\n"
   ]
  },
  {
   "cell_type": "code",
   "execution_count": 23,
   "metadata": {
    "ExecuteTime": {
     "end_time": "2019-07-26T21:38:40.178733Z",
     "start_time": "2019-07-26T21:38:34.358429Z"
    },
    "scrolled": true
   },
   "outputs": [
    {
     "name": "stdout",
     "output_type": "stream",
     "text": [
      "The score for kNN is\n",
      "Training:  72.23%\n",
      "Test set:  56.04%\n"
     ]
    }
   ],
   "source": [
    "knn = KNeighborsClassifier(n_neighbors=5)\n",
    "something = knn.fit(X_train, y_train)\n",
    "print(\"The score for kNN is\")\n",
    "print(\"Training: {:6.2f}%\".format(100*knn.score(X_train, y_train)))\n",
    "print(\"Test set: {:6.2f}%\".format(100*knn.score(X_test, y_test)))\n"
   ]
  },
  {
   "cell_type": "code",
   "execution_count": 24,
   "metadata": {
    "ExecuteTime": {
     "end_time": "2019-07-26T21:38:40.187426Z",
     "start_time": "2019-07-26T21:38:40.180842Z"
    }
   },
   "outputs": [
    {
     "data": {
      "text/plain": [
       "KNeighborsClassifier(algorithm='auto', leaf_size=30, metric='minkowski',\n",
       "                     metric_params=None, n_jobs=None, n_neighbors=5, p=2,\n",
       "                     weights='uniform')"
      ]
     },
     "execution_count": 24,
     "metadata": {},
     "output_type": "execute_result"
    }
   ],
   "source": [
    "something"
   ]
  },
  {
   "cell_type": "code",
   "execution_count": 25,
   "metadata": {
    "ExecuteTime": {
     "end_time": "2019-07-26T21:39:01.189492Z",
     "start_time": "2019-07-26T21:39:01.184470Z"
    }
   },
   "outputs": [],
   "source": [
    "# More feature engineering needed or recursive feature selection"
   ]
  },
  {
   "cell_type": "markdown",
   "metadata": {},
   "source": [
    "I am not able to change anything by tuning the value of C"
   ]
  },
  {
   "cell_type": "markdown",
   "metadata": {},
   "source": [
    "## RFE"
   ]
  },
  {
   "cell_type": "code",
   "execution_count": 26,
   "metadata": {
    "ExecuteTime": {
     "end_time": "2019-07-26T21:39:12.237328Z",
     "start_time": "2019-07-26T21:39:02.141593Z"
    }
   },
   "outputs": [
    {
     "name": "stderr",
     "output_type": "stream",
     "text": [
      "/anaconda3/envs/metis/lib/python3.7/site-packages/sklearn/linear_model/logistic.py:432: FutureWarning: Default solver will be changed to 'lbfgs' in 0.22. Specify a solver to silence this warning.\n",
      "  FutureWarning)\n",
      "/anaconda3/envs/metis/lib/python3.7/site-packages/sklearn/linear_model/logistic.py:432: FutureWarning: Default solver will be changed to 'lbfgs' in 0.22. Specify a solver to silence this warning.\n",
      "  FutureWarning)\n",
      "/anaconda3/envs/metis/lib/python3.7/site-packages/sklearn/linear_model/logistic.py:432: FutureWarning: Default solver will be changed to 'lbfgs' in 0.22. Specify a solver to silence this warning.\n",
      "  FutureWarning)\n",
      "/anaconda3/envs/metis/lib/python3.7/site-packages/sklearn/linear_model/logistic.py:432: FutureWarning: Default solver will be changed to 'lbfgs' in 0.22. Specify a solver to silence this warning.\n",
      "  FutureWarning)\n",
      "/anaconda3/envs/metis/lib/python3.7/site-packages/sklearn/linear_model/logistic.py:432: FutureWarning: Default solver will be changed to 'lbfgs' in 0.22. Specify a solver to silence this warning.\n",
      "  FutureWarning)\n",
      "/anaconda3/envs/metis/lib/python3.7/site-packages/sklearn/linear_model/logistic.py:432: FutureWarning: Default solver will be changed to 'lbfgs' in 0.22. Specify a solver to silence this warning.\n",
      "  FutureWarning)\n",
      "/anaconda3/envs/metis/lib/python3.7/site-packages/sklearn/linear_model/logistic.py:432: FutureWarning: Default solver will be changed to 'lbfgs' in 0.22. Specify a solver to silence this warning.\n",
      "  FutureWarning)\n",
      "/anaconda3/envs/metis/lib/python3.7/site-packages/sklearn/linear_model/logistic.py:432: FutureWarning: Default solver will be changed to 'lbfgs' in 0.22. Specify a solver to silence this warning.\n",
      "  FutureWarning)\n",
      "/anaconda3/envs/metis/lib/python3.7/site-packages/sklearn/linear_model/logistic.py:432: FutureWarning: Default solver will be changed to 'lbfgs' in 0.22. Specify a solver to silence this warning.\n",
      "  FutureWarning)\n",
      "/anaconda3/envs/metis/lib/python3.7/site-packages/sklearn/linear_model/logistic.py:432: FutureWarning: Default solver will be changed to 'lbfgs' in 0.22. Specify a solver to silence this warning.\n",
      "  FutureWarning)\n",
      "/anaconda3/envs/metis/lib/python3.7/site-packages/sklearn/linear_model/logistic.py:432: FutureWarning: Default solver will be changed to 'lbfgs' in 0.22. Specify a solver to silence this warning.\n",
      "  FutureWarning)\n",
      "/anaconda3/envs/metis/lib/python3.7/site-packages/sklearn/linear_model/logistic.py:432: FutureWarning: Default solver will be changed to 'lbfgs' in 0.22. Specify a solver to silence this warning.\n",
      "  FutureWarning)\n",
      "/anaconda3/envs/metis/lib/python3.7/site-packages/sklearn/linear_model/logistic.py:432: FutureWarning: Default solver will be changed to 'lbfgs' in 0.22. Specify a solver to silence this warning.\n",
      "  FutureWarning)\n",
      "/anaconda3/envs/metis/lib/python3.7/site-packages/sklearn/linear_model/logistic.py:432: FutureWarning: Default solver will be changed to 'lbfgs' in 0.22. Specify a solver to silence this warning.\n",
      "  FutureWarning)\n",
      "/anaconda3/envs/metis/lib/python3.7/site-packages/sklearn/linear_model/logistic.py:432: FutureWarning: Default solver will be changed to 'lbfgs' in 0.22. Specify a solver to silence this warning.\n",
      "  FutureWarning)\n",
      "/anaconda3/envs/metis/lib/python3.7/site-packages/sklearn/linear_model/logistic.py:432: FutureWarning: Default solver will be changed to 'lbfgs' in 0.22. Specify a solver to silence this warning.\n",
      "  FutureWarning)\n",
      "/anaconda3/envs/metis/lib/python3.7/site-packages/sklearn/linear_model/logistic.py:432: FutureWarning: Default solver will be changed to 'lbfgs' in 0.22. Specify a solver to silence this warning.\n",
      "  FutureWarning)\n",
      "/anaconda3/envs/metis/lib/python3.7/site-packages/sklearn/linear_model/logistic.py:432: FutureWarning: Default solver will be changed to 'lbfgs' in 0.22. Specify a solver to silence this warning.\n",
      "  FutureWarning)\n",
      "/anaconda3/envs/metis/lib/python3.7/site-packages/sklearn/linear_model/logistic.py:432: FutureWarning: Default solver will be changed to 'lbfgs' in 0.22. Specify a solver to silence this warning.\n",
      "  FutureWarning)\n",
      "/anaconda3/envs/metis/lib/python3.7/site-packages/sklearn/linear_model/logistic.py:432: FutureWarning: Default solver will be changed to 'lbfgs' in 0.22. Specify a solver to silence this warning.\n",
      "  FutureWarning)\n",
      "/anaconda3/envs/metis/lib/python3.7/site-packages/sklearn/linear_model/logistic.py:432: FutureWarning: Default solver will be changed to 'lbfgs' in 0.22. Specify a solver to silence this warning.\n",
      "  FutureWarning)\n",
      "/anaconda3/envs/metis/lib/python3.7/site-packages/sklearn/linear_model/logistic.py:432: FutureWarning: Default solver will be changed to 'lbfgs' in 0.22. Specify a solver to silence this warning.\n",
      "  FutureWarning)\n",
      "/anaconda3/envs/metis/lib/python3.7/site-packages/sklearn/linear_model/logistic.py:432: FutureWarning: Default solver will be changed to 'lbfgs' in 0.22. Specify a solver to silence this warning.\n",
      "  FutureWarning)\n",
      "/anaconda3/envs/metis/lib/python3.7/site-packages/sklearn/linear_model/logistic.py:432: FutureWarning: Default solver will be changed to 'lbfgs' in 0.22. Specify a solver to silence this warning.\n",
      "  FutureWarning)\n",
      "/anaconda3/envs/metis/lib/python3.7/site-packages/sklearn/linear_model/logistic.py:432: FutureWarning: Default solver will be changed to 'lbfgs' in 0.22. Specify a solver to silence this warning.\n",
      "  FutureWarning)\n",
      "/anaconda3/envs/metis/lib/python3.7/site-packages/sklearn/linear_model/logistic.py:432: FutureWarning: Default solver will be changed to 'lbfgs' in 0.22. Specify a solver to silence this warning.\n",
      "  FutureWarning)\n",
      "/anaconda3/envs/metis/lib/python3.7/site-packages/sklearn/linear_model/logistic.py:432: FutureWarning: Default solver will be changed to 'lbfgs' in 0.22. Specify a solver to silence this warning.\n",
      "  FutureWarning)\n",
      "/anaconda3/envs/metis/lib/python3.7/site-packages/sklearn/linear_model/logistic.py:432: FutureWarning: Default solver will be changed to 'lbfgs' in 0.22. Specify a solver to silence this warning.\n",
      "  FutureWarning)\n",
      "/anaconda3/envs/metis/lib/python3.7/site-packages/sklearn/linear_model/logistic.py:432: FutureWarning: Default solver will be changed to 'lbfgs' in 0.22. Specify a solver to silence this warning.\n",
      "  FutureWarning)\n",
      "/anaconda3/envs/metis/lib/python3.7/site-packages/sklearn/linear_model/logistic.py:432: FutureWarning: Default solver will be changed to 'lbfgs' in 0.22. Specify a solver to silence this warning.\n",
      "  FutureWarning)\n",
      "/anaconda3/envs/metis/lib/python3.7/site-packages/sklearn/linear_model/logistic.py:432: FutureWarning: Default solver will be changed to 'lbfgs' in 0.22. Specify a solver to silence this warning.\n",
      "  FutureWarning)\n",
      "/anaconda3/envs/metis/lib/python3.7/site-packages/sklearn/linear_model/logistic.py:432: FutureWarning: Default solver will be changed to 'lbfgs' in 0.22. Specify a solver to silence this warning.\n",
      "  FutureWarning)\n",
      "/anaconda3/envs/metis/lib/python3.7/site-packages/sklearn/linear_model/logistic.py:432: FutureWarning: Default solver will be changed to 'lbfgs' in 0.22. Specify a solver to silence this warning.\n",
      "  FutureWarning)\n",
      "/anaconda3/envs/metis/lib/python3.7/site-packages/sklearn/linear_model/logistic.py:432: FutureWarning: Default solver will be changed to 'lbfgs' in 0.22. Specify a solver to silence this warning.\n",
      "  FutureWarning)\n",
      "/anaconda3/envs/metis/lib/python3.7/site-packages/sklearn/linear_model/logistic.py:432: FutureWarning: Default solver will be changed to 'lbfgs' in 0.22. Specify a solver to silence this warning.\n",
      "  FutureWarning)\n",
      "/anaconda3/envs/metis/lib/python3.7/site-packages/sklearn/linear_model/logistic.py:432: FutureWarning: Default solver will be changed to 'lbfgs' in 0.22. Specify a solver to silence this warning.\n",
      "  FutureWarning)\n",
      "/anaconda3/envs/metis/lib/python3.7/site-packages/sklearn/linear_model/logistic.py:432: FutureWarning: Default solver will be changed to 'lbfgs' in 0.22. Specify a solver to silence this warning.\n",
      "  FutureWarning)\n",
      "/anaconda3/envs/metis/lib/python3.7/site-packages/sklearn/linear_model/logistic.py:432: FutureWarning: Default solver will be changed to 'lbfgs' in 0.22. Specify a solver to silence this warning.\n",
      "  FutureWarning)\n",
      "/anaconda3/envs/metis/lib/python3.7/site-packages/sklearn/linear_model/logistic.py:432: FutureWarning: Default solver will be changed to 'lbfgs' in 0.22. Specify a solver to silence this warning.\n",
      "  FutureWarning)\n"
     ]
    },
    {
     "name": "stderr",
     "output_type": "stream",
     "text": [
      "/anaconda3/envs/metis/lib/python3.7/site-packages/sklearn/linear_model/logistic.py:432: FutureWarning: Default solver will be changed to 'lbfgs' in 0.22. Specify a solver to silence this warning.\n",
      "  FutureWarning)\n",
      "/anaconda3/envs/metis/lib/python3.7/site-packages/sklearn/linear_model/logistic.py:432: FutureWarning: Default solver will be changed to 'lbfgs' in 0.22. Specify a solver to silence this warning.\n",
      "  FutureWarning)\n",
      "/anaconda3/envs/metis/lib/python3.7/site-packages/sklearn/linear_model/logistic.py:432: FutureWarning: Default solver will be changed to 'lbfgs' in 0.22. Specify a solver to silence this warning.\n",
      "  FutureWarning)\n",
      "/anaconda3/envs/metis/lib/python3.7/site-packages/sklearn/linear_model/logistic.py:432: FutureWarning: Default solver will be changed to 'lbfgs' in 0.22. Specify a solver to silence this warning.\n",
      "  FutureWarning)\n",
      "/anaconda3/envs/metis/lib/python3.7/site-packages/sklearn/linear_model/logistic.py:432: FutureWarning: Default solver will be changed to 'lbfgs' in 0.22. Specify a solver to silence this warning.\n",
      "  FutureWarning)\n"
     ]
    },
    {
     "name": "stdout",
     "output_type": "stream",
     "text": [
      "[False False False False False  True  True False  True  True False False\n",
      " False False False False False False False False  True False False  True\n",
      " False False  True False False False False  True False  True False False\n",
      " False False False False  True  True False False False False False  True\n",
      " False False  True  True  True  True False False False  True  True  True\n",
      " False False False  True]\n",
      "[40 45 36 44 24  1  1 30  1  1 27  5  6  9  7  8 15 18 29 14  1  2 35  1\n",
      "  3 32  1 33 39 37 10  1 28  1  4 17 38 43 42 22  1  1 11 20 12 34 26  1\n",
      " 31 41  1  1  1  1 16 19 25  1  1  1 21 13 23  1]\n"
     ]
    },
    {
     "name": "stderr",
     "output_type": "stream",
     "text": [
      "/anaconda3/envs/metis/lib/python3.7/site-packages/sklearn/linear_model/logistic.py:432: FutureWarning: Default solver will be changed to 'lbfgs' in 0.22. Specify a solver to silence this warning.\n",
      "  FutureWarning)\n"
     ]
    }
   ],
   "source": [
    "data_final_vars=train.columns.values.tolist()\n",
    "y=['readmitted']\n",
    "X=[i for i in data_final_vars if i not in y]\n",
    "from sklearn.feature_selection import RFE\n",
    "from sklearn.linear_model import LogisticRegression\n",
    "logreg = LogisticRegression()\n",
    "rfe = RFE(logreg, 20)\n",
    "rfe = rfe.fit(X_train, y_train.values.ravel())\n",
    "print(rfe.support_)\n",
    "print(rfe.ranking_)"
   ]
  },
  {
   "cell_type": "code",
   "execution_count": 27,
   "metadata": {
    "ExecuteTime": {
     "end_time": "2019-07-26T21:39:12.257166Z",
     "start_time": "2019-07-26T21:39:12.242611Z"
    }
   },
   "outputs": [],
   "source": [
    "cols =['number_emergency',\n",
    "       'number_inpatient','race_Caucasian',\n",
    "       'race_AfricanAmerican', 'payer_code_BC',\n",
    "       'medical_specialty_Emergency/Trauma','diag_1_428',\n",
    "       'diag_2_250',\n",
    "       'diag_3_250',\n",
    "       'repaglinide_No', 'nateglinide_No',\n",
    "       'tolbutamide_No','acarbose_No',\n",
    "       'miglitol_No', 'troglitazone_No', 'tolazamide_No','glyburide-metformin_No',\n",
    "       'glipizide-metformin_No',\n",
    "       'diabetesMed_Yes']"
   ]
  },
  {
   "cell_type": "code",
   "execution_count": 28,
   "metadata": {
    "ExecuteTime": {
     "end_time": "2019-07-26T21:39:12.277579Z",
     "start_time": "2019-07-26T21:39:12.265698Z"
    },
    "scrolled": true
   },
   "outputs": [],
   "source": [
    "new_X_train = X_train[cols]\n",
    "new_y_train = y_train\n",
    "new_X_test = X_test[cols]\n",
    "new_y_test = y_test\n"
   ]
  },
  {
   "cell_type": "code",
   "execution_count": 29,
   "metadata": {
    "ExecuteTime": {
     "end_time": "2019-07-26T21:39:12.485313Z",
     "start_time": "2019-07-26T21:39:12.286243Z"
    },
    "scrolled": true
   },
   "outputs": [
    {
     "name": "stderr",
     "output_type": "stream",
     "text": [
      "/anaconda3/envs/metis/lib/python3.7/site-packages/sklearn/linear_model/logistic.py:432: FutureWarning: Default solver will be changed to 'lbfgs' in 0.22. Specify a solver to silence this warning.\n",
      "  FutureWarning)\n"
     ]
    },
    {
     "name": "stdout",
     "output_type": "stream",
     "text": [
      "Training:  62.28%\n"
     ]
    }
   ],
   "source": [
    "logit = LogisticRegression(C = 0.95)\n",
    "logit.fit(new_X_train, new_y_train)\n",
    "#print(\"The score for logistic regression is\")\n",
    "print(\"Training: {:6.2f}%\".format(100*logit.score(new_X_train, new_y_train)))\n",
    "# print(\"Test set: {:6.2f}%\".format(100*logit.score(new_X_test, new_y_test)))"
   ]
  },
  {
   "cell_type": "markdown",
   "metadata": {},
   "source": [
    "Removing features didn't increase the accuracy"
   ]
  },
  {
   "cell_type": "code",
   "execution_count": 30,
   "metadata": {
    "ExecuteTime": {
     "end_time": "2019-07-26T21:39:14.381951Z",
     "start_time": "2019-07-26T21:39:14.376482Z"
    }
   },
   "outputs": [
    {
     "name": "stdout",
     "output_type": "stream",
     "text": [
      "(17500, 64) (17500, 19)\n"
     ]
    }
   ],
   "source": [
    "print(X_train.shape, new_X_train.shape)"
   ]
  },
  {
   "cell_type": "code",
   "execution_count": 31,
   "metadata": {
    "ExecuteTime": {
     "end_time": "2019-07-26T21:39:15.016592Z",
     "start_time": "2019-07-26T21:39:15.014074Z"
    }
   },
   "outputs": [],
   "source": [
    "# import statsmodels.api as sm\n",
    "# logit_model=sm.Logit(new_y_train,new_X_train)\n",
    "# result=logit_model.fit()\n",
    "# print(result.summary2())"
   ]
  },
  {
   "cell_type": "code",
   "execution_count": 32,
   "metadata": {
    "ExecuteTime": {
     "end_time": "2019-07-26T21:39:15.567523Z",
     "start_time": "2019-07-26T21:39:15.503713Z"
    },
    "scrolled": false
   },
   "outputs": [
    {
     "data": {
      "text/html": [
       "<div>\n",
       "<style scoped>\n",
       "    .dataframe tbody tr th:only-of-type {\n",
       "        vertical-align: middle;\n",
       "    }\n",
       "\n",
       "    .dataframe tbody tr th {\n",
       "        vertical-align: top;\n",
       "    }\n",
       "\n",
       "    .dataframe thead th {\n",
       "        text-align: right;\n",
       "    }\n",
       "</style>\n",
       "<table border=\"1\" class=\"dataframe\">\n",
       "  <thead>\n",
       "    <tr style=\"text-align: right;\">\n",
       "      <th></th>\n",
       "      <th>time_in_hospital</th>\n",
       "      <th>num_lab_procedures</th>\n",
       "      <th>num_procedures</th>\n",
       "      <th>num_medications</th>\n",
       "      <th>number_outpatient</th>\n",
       "      <th>number_emergency</th>\n",
       "      <th>number_inpatient</th>\n",
       "      <th>number_diagnoses</th>\n",
       "      <th>readmitted</th>\n",
       "    </tr>\n",
       "  </thead>\n",
       "  <tbody>\n",
       "    <tr>\n",
       "      <th>count</th>\n",
       "      <td>25000.000000</td>\n",
       "      <td>25000.00000</td>\n",
       "      <td>25000.000000</td>\n",
       "      <td>25000.000000</td>\n",
       "      <td>25000.000000</td>\n",
       "      <td>25000.000000</td>\n",
       "      <td>25000.00000</td>\n",
       "      <td>25000.000000</td>\n",
       "      <td>25000.000000</td>\n",
       "    </tr>\n",
       "    <tr>\n",
       "      <th>mean</th>\n",
       "      <td>4.395640</td>\n",
       "      <td>42.96012</td>\n",
       "      <td>1.341080</td>\n",
       "      <td>15.988440</td>\n",
       "      <td>0.365920</td>\n",
       "      <td>0.203280</td>\n",
       "      <td>0.64300</td>\n",
       "      <td>7.420160</td>\n",
       "      <td>0.456400</td>\n",
       "    </tr>\n",
       "    <tr>\n",
       "      <th>std</th>\n",
       "      <td>2.991165</td>\n",
       "      <td>19.76881</td>\n",
       "      <td>1.705398</td>\n",
       "      <td>8.107743</td>\n",
       "      <td>1.224419</td>\n",
       "      <td>0.982973</td>\n",
       "      <td>1.26286</td>\n",
       "      <td>1.940932</td>\n",
       "      <td>0.498105</td>\n",
       "    </tr>\n",
       "    <tr>\n",
       "      <th>min</th>\n",
       "      <td>1.000000</td>\n",
       "      <td>1.00000</td>\n",
       "      <td>0.000000</td>\n",
       "      <td>1.000000</td>\n",
       "      <td>0.000000</td>\n",
       "      <td>0.000000</td>\n",
       "      <td>0.00000</td>\n",
       "      <td>1.000000</td>\n",
       "      <td>0.000000</td>\n",
       "    </tr>\n",
       "    <tr>\n",
       "      <th>25%</th>\n",
       "      <td>2.000000</td>\n",
       "      <td>31.00000</td>\n",
       "      <td>0.000000</td>\n",
       "      <td>10.000000</td>\n",
       "      <td>0.000000</td>\n",
       "      <td>0.000000</td>\n",
       "      <td>0.00000</td>\n",
       "      <td>6.000000</td>\n",
       "      <td>0.000000</td>\n",
       "    </tr>\n",
       "    <tr>\n",
       "      <th>50%</th>\n",
       "      <td>4.000000</td>\n",
       "      <td>44.00000</td>\n",
       "      <td>1.000000</td>\n",
       "      <td>15.000000</td>\n",
       "      <td>0.000000</td>\n",
       "      <td>0.000000</td>\n",
       "      <td>0.00000</td>\n",
       "      <td>8.000000</td>\n",
       "      <td>0.000000</td>\n",
       "    </tr>\n",
       "    <tr>\n",
       "      <th>75%</th>\n",
       "      <td>6.000000</td>\n",
       "      <td>57.00000</td>\n",
       "      <td>2.000000</td>\n",
       "      <td>20.000000</td>\n",
       "      <td>0.000000</td>\n",
       "      <td>0.000000</td>\n",
       "      <td>1.00000</td>\n",
       "      <td>9.000000</td>\n",
       "      <td>1.000000</td>\n",
       "    </tr>\n",
       "    <tr>\n",
       "      <th>max</th>\n",
       "      <td>14.000000</td>\n",
       "      <td>126.00000</td>\n",
       "      <td>6.000000</td>\n",
       "      <td>81.000000</td>\n",
       "      <td>36.000000</td>\n",
       "      <td>64.000000</td>\n",
       "      <td>21.00000</td>\n",
       "      <td>16.000000</td>\n",
       "      <td>1.000000</td>\n",
       "    </tr>\n",
       "  </tbody>\n",
       "</table>\n",
       "</div>"
      ],
      "text/plain": [
       "       time_in_hospital  num_lab_procedures  num_procedures  num_medications  \\\n",
       "count      25000.000000         25000.00000    25000.000000     25000.000000   \n",
       "mean           4.395640            42.96012        1.341080        15.988440   \n",
       "std            2.991165            19.76881        1.705398         8.107743   \n",
       "min            1.000000             1.00000        0.000000         1.000000   \n",
       "25%            2.000000            31.00000        0.000000        10.000000   \n",
       "50%            4.000000            44.00000        1.000000        15.000000   \n",
       "75%            6.000000            57.00000        2.000000        20.000000   \n",
       "max           14.000000           126.00000        6.000000        81.000000   \n",
       "\n",
       "       number_outpatient  number_emergency  number_inpatient  \\\n",
       "count       25000.000000      25000.000000       25000.00000   \n",
       "mean            0.365920          0.203280           0.64300   \n",
       "std             1.224419          0.982973           1.26286   \n",
       "min             0.000000          0.000000           0.00000   \n",
       "25%             0.000000          0.000000           0.00000   \n",
       "50%             0.000000          0.000000           0.00000   \n",
       "75%             0.000000          0.000000           1.00000   \n",
       "max            36.000000         64.000000          21.00000   \n",
       "\n",
       "       number_diagnoses    readmitted  \n",
       "count      25000.000000  25000.000000  \n",
       "mean           7.420160      0.456400  \n",
       "std            1.940932      0.498105  \n",
       "min            1.000000      0.000000  \n",
       "25%            6.000000      0.000000  \n",
       "50%            8.000000      0.000000  \n",
       "75%            9.000000      1.000000  \n",
       "max           16.000000      1.000000  "
      ]
     },
     "execution_count": 32,
     "metadata": {},
     "output_type": "execute_result"
    }
   ],
   "source": [
    "train.describe()"
   ]
  },
  {
   "cell_type": "code",
   "execution_count": 33,
   "metadata": {
    "ExecuteTime": {
     "end_time": "2019-07-26T21:39:15.679320Z",
     "start_time": "2019-07-26T21:39:15.676038Z"
    }
   },
   "outputs": [],
   "source": [
    "# implementing the model following RFE"
   ]
  },
  {
   "cell_type": "code",
   "execution_count": 34,
   "metadata": {
    "ExecuteTime": {
     "end_time": "2019-07-26T21:39:17.273503Z",
     "start_time": "2019-07-26T21:39:17.266998Z"
    }
   },
   "outputs": [
    {
     "data": {
      "text/plain": [
       "(25000, 65)"
      ]
     },
     "execution_count": 34,
     "metadata": {},
     "output_type": "execute_result"
    }
   ],
   "source": [
    "train.shape"
   ]
  },
  {
   "cell_type": "code",
   "execution_count": 35,
   "metadata": {
    "ExecuteTime": {
     "end_time": "2019-07-26T21:39:18.174553Z",
     "start_time": "2019-07-26T21:39:18.165440Z"
    }
   },
   "outputs": [
    {
     "data": {
      "text/plain": [
       "Index(['time_in_hospital', 'num_lab_procedures', 'num_procedures',\n",
       "       'num_medications', 'number_outpatient', 'number_emergency',\n",
       "       'number_inpatient', 'number_diagnoses', 'race_Caucasian',\n",
       "       'race_AfricanAmerican', 'gender_Female', 'age_[70-80)', 'age_[60-70)',\n",
       "       'age_[50-60)', 'age_[80-90)', 'age_[40-50)', 'payer_code_?',\n",
       "       'payer_code_MC', 'payer_code_HM', 'payer_code_SP', 'payer_code_BC',\n",
       "       'medical_specialty_?', 'medical_specialty_InternalMedicine',\n",
       "       'medical_specialty_Emergency/Trauma',\n",
       "       'medical_specialty_Family/GeneralPractice',\n",
       "       'medical_specialty_Cardiology', 'diag_1_428', 'diag_1_414',\n",
       "       'diag_1_786', 'diag_2_276', 'diag_2_428', 'diag_2_250', 'diag_2_427',\n",
       "       'diag_3_250', 'diag_3_401', 'diag_3_276', 'diag_3_428',\n",
       "       'max_glu_serum_None', 'A1Cresult_None', 'metformin_No',\n",
       "       'repaglinide_No', 'nateglinide_No', 'chlorpropamide_No',\n",
       "       'glimepiride_No', 'acetohexamide_No', 'glipizide_No', 'glyburide_No',\n",
       "       'tolbutamide_No', 'pioglitazone_No', 'rosiglitazone_No', 'acarbose_No',\n",
       "       'miglitol_No', 'troglitazone_No', 'tolazamide_No', 'examide_No',\n",
       "       'citoglipton_No', 'insulin_No', 'glyburide-metformin_No',\n",
       "       'glipizide-metformin_No', 'glimepiride-pioglitazone_No',\n",
       "       'metformin-rosiglitazone_No', 'metformin-pioglitazone_No', 'change_No',\n",
       "       'diabetesMed_Yes', 'readmitted'],\n",
       "      dtype='object')"
      ]
     },
     "execution_count": 35,
     "metadata": {},
     "output_type": "execute_result"
    }
   ],
   "source": [
    "train.columns"
   ]
  },
  {
   "cell_type": "code",
   "execution_count": 36,
   "metadata": {
    "ExecuteTime": {
     "end_time": "2019-07-26T21:39:19.037065Z",
     "start_time": "2019-07-26T21:39:19.031750Z"
    }
   },
   "outputs": [],
   "source": [
    "# premiere ligne 6,7,9,10 deuxieme ligne 21,24 troisieme ligne 27,32,34,41,42,48,52,53,54,58,59,60,64"
   ]
  },
  {
   "cell_type": "code",
   "execution_count": 48,
   "metadata": {
    "ExecuteTime": {
     "end_time": "2019-07-26T21:41:04.840603Z",
     "start_time": "2019-07-26T21:41:04.381385Z"
    }
   },
   "outputs": [
    {
     "name": "stderr",
     "output_type": "stream",
     "text": [
      "/anaconda3/envs/metis/lib/python3.7/site-packages/sklearn/linear_model/logistic.py:432: FutureWarning: Default solver will be changed to 'lbfgs' in 0.22. Specify a solver to silence this warning.\n",
      "  FutureWarning)\n"
     ]
    },
    {
     "name": "stdout",
     "output_type": "stream",
     "text": [
      "The score for logistic regression is\n",
      "Training:  62.67%\n",
      "Test set:  62.45%\n"
     ]
    }
   ],
   "source": [
    "logit_ = LogisticRegression\n",
    "(C = 0.15, penalty = 'l2')\n",
    "logit_.fit(X_train, y_train)\n",
    "print(\"The score for logistic regression is\")\n",
    "print(\"Training: {:6.2f}%\".format(100*logit.score(X_train, y_train)))\n",
    "print(\"Test set: {:6.2f}%\".format(100*logit.score(X_test, y_test)))"
   ]
  },
  {
   "cell_type": "code",
   "execution_count": 46,
   "metadata": {
    "ExecuteTime": {
     "end_time": "2019-07-26T21:40:56.139341Z",
     "start_time": "2019-07-26T21:40:55.231802Z"
    },
    "scrolled": true
   },
   "outputs": [
    {
     "name": "stderr",
     "output_type": "stream",
     "text": [
      "/anaconda3/envs/metis/lib/python3.7/site-packages/sklearn/linear_model/logistic.py:432: FutureWarning: Default solver will be changed to 'lbfgs' in 0.22. Specify a solver to silence this warning.\n",
      "  FutureWarning)\n"
     ]
    },
    {
     "name": "stdout",
     "output_type": "stream",
     "text": [
      "The score for logistic regression is\n",
      "Training:  62.67%\n",
      "Test set:  62.45%\n"
     ]
    }
   ],
   "source": [
    "logit = LogisticRegression(C = 0.05, penalty = 'l1')\n",
    "logit.fit(X_train, y_train)\n",
    "print(\"The score for logistic regression is\")\n",
    "print(\"Training: {:6.2f}%\".format(100*logit.score(X_train, y_train)))\n",
    "print(\"Test set: {:6.2f}%\".format(100*logit.score(X_test, y_test)))"
   ]
  },
  {
   "cell_type": "code",
   "execution_count": 44,
   "metadata": {
    "ExecuteTime": {
     "end_time": "2019-07-26T21:40:27.869802Z",
     "start_time": "2019-07-26T21:40:27.861441Z"
    }
   },
   "outputs": [
    {
     "data": {
      "text/plain": [
       "array([[0.32314258, 0.67685742],\n",
       "       [0.46401744, 0.53598256],\n",
       "       [0.61372985, 0.38627015],\n",
       "       [0.58963179, 0.41036821],\n",
       "       [0.68583097, 0.31416903]])"
      ]
     },
     "execution_count": 44,
     "metadata": {},
     "output_type": "execute_result"
    }
   ],
   "source": [
    "# Let's do a prediction of the first 5 observations from logistic\n",
    "\n",
    "logit.predict_proba(X_test[:5])"
   ]
  },
  {
   "cell_type": "markdown",
   "metadata": {},
   "source": [
    "## Confusion Matrix"
   ]
  },
  {
   "cell_type": "code",
   "execution_count": 47,
   "metadata": {
    "ExecuteTime": {
     "end_time": "2019-07-25T16:46:19.018341Z",
     "start_time": "2019-07-25T16:46:17.465312Z"
    }
   },
   "outputs": [
    {
     "name": "stdout",
     "output_type": "stream",
     "text": [
      "kNN confusion matrix: \n",
      "\n",
      " [[2701 1393]\n",
      " [1904 1502]]\n"
     ]
    }
   ],
   "source": [
    "from sklearn.metrics import confusion_matrix\n",
    "\n",
    "print(\"kNN confusion matrix: \\n\\n\", confusion_matrix(label_test, knn.predict(X_test)))"
   ]
  },
  {
   "cell_type": "code",
   "execution_count": 48,
   "metadata": {
    "ExecuteTime": {
     "end_time": "2019-07-25T16:46:20.601785Z",
     "start_time": "2019-07-25T16:46:20.429279Z"
    },
    "scrolled": false
   },
   "outputs": [
    {
     "data": {
      "text/plain": [
       "<matplotlib.axes._subplots.AxesSubplot at 0x1a3d059a20>"
      ]
     },
     "execution_count": 48,
     "metadata": {},
     "output_type": "execute_result"
    },
    {
     "data": {
      "image/png": "[encoded data removed]",
      "text/plain": [
       "<Figure size 432x288 with 1 Axes>"
      ]
     },
     "metadata": {
      "needs_background": "light"
     },
     "output_type": "display_data"
    }
   ],
   "source": [
    "train.readmitted.hist()"
   ]
  },
  {
   "cell_type": "code",
   "execution_count": 49,
   "metadata": {
    "ExecuteTime": {
     "end_time": "2019-07-25T16:46:22.019258Z",
     "start_time": "2019-07-25T16:46:22.010288Z"
    }
   },
   "outputs": [
    {
     "data": {
      "text/plain": [
       "0    13590\n",
       "1    11410\n",
       "Name: readmitted, dtype: int64"
      ]
     },
     "execution_count": 49,
     "metadata": {},
     "output_type": "execute_result"
    }
   ],
   "source": [
    "train[\"readmitted\"].value_counts()"
   ]
  },
  {
   "cell_type": "code",
   "execution_count": 50,
   "metadata": {
    "ExecuteTime": {
     "end_time": "2019-07-25T16:46:30.034837Z",
     "start_time": "2019-07-25T16:46:30.029593Z"
    }
   },
   "outputs": [],
   "source": [
    "def make_confusion_matrix(model, threshold=0.5):\n",
    "    # Predict class 1 if probability of being in class 1 is greater than threshold\n",
    "    # (model.predict(X_test) does this automatically with a threshold of 0.5)\n",
    "    y_predict = (model.predict_proba(X_test)[:, 1] >= threshold)\n",
    "    readmission_confusion = confusion_matrix(y_test, y_predict)\n",
    "    plt.figure(dpi=80)\n",
    "    sns.heatmap(readmission_confusion, cmap=plt.cm.Blues, annot=True, square=True, fmt='d',\n",
    "           xticklabels=['readmitted', 'n_readmitted'],\n",
    "           yticklabels=['readmitted', 'n_readmitted']);\n",
    "    plt.xlabel('prediction')\n",
    "    plt.ylabel('actual')\n"
   ]
  },
  {
   "cell_type": "code",
   "execution_count": 51,
   "metadata": {
    "ExecuteTime": {
     "end_time": "2019-07-25T16:46:31.291652Z",
     "start_time": "2019-07-25T16:46:31.121192Z"
    }
   },
   "outputs": [
    {
     "data": {
      "image/png": "[encoded data removed]",
      "text/plain": [
       "<Figure size 480x320 with 2 Axes>"
      ]
     },
     "metadata": {
      "needs_background": "light"
     },
     "output_type": "display_data"
    }
   ],
   "source": [
    "make_confusion_matrix(logit)"
   ]
  },
  {
   "cell_type": "code",
   "execution_count": 53,
   "metadata": {
    "ExecuteTime": {
     "end_time": "2019-07-25T16:47:03.751051Z",
     "start_time": "2019-07-25T16:47:03.548679Z"
    }
   },
   "outputs": [
    {
     "data": {
      "application/vnd.jupyter.widget-view+json": {
       "model_id": "ae86b785d05947faac9bd2ca23c23672",
       "version_major": 2,
       "version_minor": 0
      },
      "text/plain": [
       "interactive(children=(FloatSlider(value=0.5, description='threshold', max=1.0, step=0.02), Output()), _dom_cla…"
      ]
     },
     "metadata": {},
     "output_type": "display_data"
    }
   ],
   "source": [
    "# Let's see how our confusion matrix changes with changes to the cutoff! \n",
    "\n",
    "from ipywidgets import interactive, FloatSlider\n",
    "\n",
    "interactive(lambda threshold: make_confusion_matrix(logit, threshold), threshold=(0.0,1.0,0.02))"
   ]
  },
  {
   "cell_type": "markdown",
   "metadata": {},
   "source": [
    "In formula:\n",
    "$$ \\text{Precision} = \\frac{\\text{(True positives)}}{\\text{Predicted positives}} = \\frac{\\text{True positives}}{\\text{True positives} + \\text{False postitives}}$$\n",
    "and\n",
    "$$ \\text{Recall} = \\frac{\\text{True positives}}{\\text{Actual positives}} = \\frac{\\text{True positives}}{\\text{True positives} + \\text{False negatives}}$$"
   ]
  },
  {
   "cell_type": "markdown",
   "metadata": {},
   "source": [
    "##Precision= 3243/(3243+851)"
   ]
  },
  {
   "cell_type": "code",
   "execution_count": 127,
   "metadata": {
    "ExecuteTime": {
     "end_time": "2019-07-26T17:22:44.071231Z",
     "start_time": "2019-07-26T17:22:43.997731Z"
    }
   },
   "outputs": [],
   "source": [
    "def distance(x1,x2):\n",
    "    return np.sqrt(np.sum((x1-x2)**2))"
   ]
  },
  {
   "cell_type": "code",
   "execution_count": 128,
   "metadata": {
    "ExecuteTime": {
     "end_time": "2019-07-26T17:28:11.098448Z",
     "start_time": "2019-07-26T17:28:11.087405Z"
    }
   },
   "outputs": [],
   "source": [
    "def pairwise_distances(x1,x2):\n",
    "    X1.shape= [M*N]# M points with n dimensions\n",
    "    X2.shape = [K*N]# K points with n dimensions\n",
    "    # trying to do the distance between everypoint in X1 and X2 between my train and test\n",
    "    dist = zeros(M,K)\n",
    "    for i, x1 in enumerate(X1):\n",
    "        for j,x2 in enumerate(x2):\n",
    "            dist[i,j] = distance(x[i:], y[j:])\n",
    "        return dist\n",
    "    "
   ]
  },
  {
   "cell_type": "code",
   "execution_count": null,
   "metadata": {},
   "outputs": [],
   "source": [
    "def knn_predict(x_train, y_train, x_test, k):\n",
    "    dist = parwise_dist(x_train, x_test)\n",
    "    y_pred = zeros((kj))\n",
    "    for i in range(k):\n",
    "        #I need for each data in test a prediction\n",
    "        dist_i = dist[:,i]\n",
    "        dist_ind = argsort(dist_i)[:k]\n",
    "        #getting every y of neigbors\n",
    "        neighbor_y = take(y_train, dist_ind)\n",
    "        y_pred[i] = max_vote(neighbor_y)\n",
    "    "
   ]
  }
 ],
 "metadata": {
  "kernelspec": {
   "display_name": "metis",
   "language": "python",
   "name": "metis"
  },
  "language_info": {
   "codemirror_mode": {
    "name": "ipython",
    "version": 3
   },
   "file_extension": ".py",
   "mimetype": "text/x-python",
   "name": "python",
   "nbconvert_exporter": "python",
   "pygments_lexer": "ipython3",
   "version": "3.7.3"
  },
  "toc": {
   "base_numbering": 1,
   "nav_menu": {},
   "number_sections": true,
   "sideBar": true,
   "skip_h1_title": false,
   "title_cell": "Table of Contents",
   "title_sidebar": "Contents",
   "toc_cell": true,
   "toc_position": {},
   "toc_section_display": true,
   "toc_window_display": false
  }
 },
 "nbformat": 4,
 "nbformat_minor": 2
}
